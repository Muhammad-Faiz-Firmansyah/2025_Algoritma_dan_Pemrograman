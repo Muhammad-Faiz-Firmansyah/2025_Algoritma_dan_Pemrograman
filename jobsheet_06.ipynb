{
  "nbformat": 4,
  "nbformat_minor": 0,
  "metadata": {
    "colab": {
      "provenance": [],
      "authorship_tag": "ABX9TyObj/ApLQaIOvDUQHGZ9hax",
      "include_colab_link": true
    },
    "kernelspec": {
      "name": "python3",
      "display_name": "Python 3"
    },
    "language_info": {
      "name": "python"
    }
  },
  "cells": [
    {
      "cell_type": "markdown",
      "metadata": {
        "id": "view-in-github",
        "colab_type": "text"
      },
      "source": [
        "<a href=\"https://colab.research.google.com/github/Muhammad-Faiz-Firmansyah/2025_Algoritma_dan_Pemrograman/blob/main/jobsheet_06.ipynb\" target=\"_parent\"><img src=\"https://colab.research.google.com/assets/colab-badge.svg\" alt=\"Open In Colab\"/></a>"
      ]
    },
    {
      "cell_type": "markdown",
      "source": [
        "# Pratikum 01 - Membuat dan Mengakses List 1D"
      ],
      "metadata": {
        "id": "qRs-VN7ePQGS"
      }
    },
    {
      "cell_type": "code",
      "execution_count": null,
      "metadata": {
        "id": "ceE_c34SO0t3",
        "colab": {
          "base_uri": "https://localhost:8080/"
        },
        "outputId": "26f55edb-fbe1-40f8-cecf-29cec2355fc6"
      },
      "outputs": [
        {
          "output_type": "stream",
          "name": "stdout",
          "text": [
            "Andi\n",
            "Budi\n",
            "Cici\n"
          ]
        }
      ],
      "source": [
        "mahasiswa = [\"Andi\",\"Budi\",\"Cici\"]\n",
        "print(mahasiswa[0]) # Andi\n",
        "print(mahasiswa[1]) # Budi\n",
        "print(mahasiswa[-1]) # Cici"
      ]
    },
    {
      "cell_type": "markdown",
      "source": [
        "# Praktikum 02 – Update dan Operasi Dasar List"
      ],
      "metadata": {
        "id": "0eJdbpmSHgpX"
      }
    },
    {
      "cell_type": "code",
      "source": [
        "nilai = [85,90,78]\n",
        "nilai[1] = 95\n",
        "nilai.append(100)\n",
        "nilai.remove(78)\n",
        "print(nilai)"
      ],
      "metadata": {
        "colab": {
          "base_uri": "https://localhost:8080/"
        },
        "id": "t8QsZMx7HYpG",
        "outputId": "d9b95426-b6ca-43f3-d1c4-8933b1449c59"
      },
      "execution_count": null,
      "outputs": [
        {
          "output_type": "stream",
          "name": "stdout",
          "text": [
            "[85, 95, 100]\n"
          ]
        }
      ]
    },
    {
      "cell_type": "markdown",
      "source": [
        "# Praktikum 03 – Slicing List"
      ],
      "metadata": {
        "id": "013CK_CsItKG"
      }
    },
    {
      "cell_type": "code",
      "source": [
        "nilai = [85, 90, 78, 92, 88]\n",
        "print(nilai[0:3])\t# [85, 90, 78]\n",
        "print(nilai[2:])\t# [78, 92, 88]\n",
        "print(nilai[:3])\t# [85, 90, 78]"
      ],
      "metadata": {
        "colab": {
          "base_uri": "https://localhost:8080/"
        },
        "id": "acLl5mP2Ipzw",
        "outputId": "ceaff9dd-a354-4dae-8361-1eebf66a1f0a"
      },
      "execution_count": null,
      "outputs": [
        {
          "output_type": "stream",
          "name": "stdout",
          "text": [
            "[85, 90, 78]\n",
            "[78, 92, 88]\n",
            "[85, 90, 78]\n"
          ]
        }
      ]
    },
    {
      "cell_type": "markdown",
      "source": [
        "# Praktikum 04 – List 2D (Matriks)"
      ],
      "metadata": {
        "id": "QKawKKkJJRo4"
      }
    },
    {
      "cell_type": "code",
      "source": [
        "matriks = [\n",
        "    [1, 2, 3],\n",
        "\t  [4, 5, 6],\n",
        "\t  [7, 8, 9]\n",
        "]\n",
        "\n",
        "print(matriks[0][0]) # 1\n",
        "print(matriks[1][2]) # 6\n",
        "print(matriks[2])\t# [7, 8, 9]"
      ],
      "metadata": {
        "colab": {
          "base_uri": "https://localhost:8080/"
        },
        "id": "q_83HYdkJOv8",
        "outputId": "16d0421a-5cee-4479-eb5f-057942ba270a"
      },
      "execution_count": null,
      "outputs": [
        {
          "output_type": "stream",
          "name": "stdout",
          "text": [
            "1\n",
            "6\n",
            "[7, 8, 9]\n"
          ]
        }
      ]
    },
    {
      "cell_type": "markdown",
      "source": [
        "# Praktikum 05 – Operasi pada List 2D"
      ],
      "metadata": {
        "id": "9gAq2k6NKcLM"
      }
    },
    {
      "cell_type": "code",
      "source": [
        "A = [[1, 2, 3], [4, 5, 6]]\n",
        "B = [[7, 8, 9], [10, 11, 12]]\n",
        "C = []\n",
        "\n",
        "for i in range(len(A)):\n",
        "    baris = []\n",
        "    for j in range(len(A[0])):\n",
        "\t\t    baris.append(A[i] [j] + B[i] [j])\n",
        "    C.append(baris)\n",
        "\n",
        "print(C)"
      ],
      "metadata": {
        "id": "V2mGqvJ9J6rN",
        "colab": {
          "base_uri": "https://localhost:8080/"
        },
        "outputId": "9120c042-3e40-4711-cf22-ac3037046f80"
      },
      "execution_count": null,
      "outputs": [
        {
          "output_type": "stream",
          "name": "stdout",
          "text": [
            "[[8, 10, 12], [14, 16, 18]]\n"
          ]
        }
      ]
    },
    {
      "cell_type": "markdown",
      "source": [
        "# Praktikum 06 – Studi Kasus: Pengelolaan Nilai Mahasiswa"
      ],
      "metadata": {
        "id": "Ay-63zXHOiaP"
      }
    },
    {
      "cell_type": "code",
      "source": [
        "nilai = [\n",
        "    [80, 90,\t85],\n",
        "    [70, 75,\t80],\n",
        "    [88, 92,\t84]\n",
        "]\n",
        "\n",
        "for i, baris\tin enumerate(nilai, start=1):\n",
        "    rata = sum(baris) / len(baris)\n",
        "    print(f\"Rata-rata mahasiswa {i}: {rata:.2f}\")"
      ],
      "metadata": {
        "id": "UCKPvMHrNoew",
        "colab": {
          "base_uri": "https://localhost:8080/"
        },
        "outputId": "b1b23881-3363-4a31-caa3-c61c786a73d9"
      },
      "execution_count": null,
      "outputs": [
        {
          "output_type": "stream",
          "name": "stdout",
          "text": [
            "Rata-rata mahasiswa 1: 85.00\n",
            "Rata-rata mahasiswa 2: 75.00\n",
            "Rata-rata mahasiswa 3: 88.00\n"
          ]
        }
      ]
    },
    {
      "cell_type": "markdown",
      "source": [
        "# Praktikum 07 - Akses Elemen List"
      ],
      "metadata": {
        "id": "VQ2BB_fAQ0vh"
      }
    },
    {
      "cell_type": "code",
      "source": [
        "mahasiswa = [\"Andi\", \"Bunga\", \"Cahyo\", \"Dewi\", \"Eko\"]\n",
        "\n",
        "nama_pertama = mahasiswa[0]\n",
        "nama_terakhir = mahasiswa[-1]\n",
        "nama_indeks2 = mahasiswa[2]\n",
        "\n",
        "print(nama_pertama)\n",
        "print(nama_terakhir)\n",
        "print(nama_indeks2)"
      ],
      "metadata": {
        "colab": {
          "base_uri": "https://localhost:8080/"
        },
        "id": "Bvh1PYnMPCDs",
        "outputId": "331661d4-7ce6-45c0-f9ce-8afa007286d8"
      },
      "execution_count": null,
      "outputs": [
        {
          "output_type": "stream",
          "name": "stdout",
          "text": [
            "Andi\n",
            "Eko\n",
            "Cahyo\n"
          ]
        }
      ]
    },
    {
      "cell_type": "markdown",
      "source": [
        "# Praktikum 08 - Operasi Dasar List"
      ],
      "metadata": {
        "id": "9WPiisHbQ90I"
      }
    },
    {
      "cell_type": "code",
      "source": [
        "nilai = [70, 75, 80]\n",
        "\n",
        "nilai[1] = 85\n",
        "nilai.append(90)\n",
        "nilai.remove(70)\n",
        "\n",
        "print(nilai)"
      ],
      "metadata": {
        "colab": {
          "base_uri": "https://localhost:8080/"
        },
        "id": "YdJYvfBtQwq4",
        "outputId": "00098779-ea1a-4ed1-ec6d-83c1605e21f0"
      },
      "execution_count": null,
      "outputs": [
        {
          "output_type": "stream",
          "name": "stdout",
          "text": [
            "[85, 80, 90]\n"
          ]
        }
      ]
    },
    {
      "cell_type": "markdown",
      "source": [
        "# Praktikum 09 - Slicing List"
      ],
      "metadata": {
        "id": "LHpydczMRn6f"
      }
    },
    {
      "cell_type": "code",
      "source": [
        "angka = [1,2,3,4,5,6,7,8,9,10]\n",
        "\n",
        "tiga_pertama = angka[:3]\n",
        "empat_terakhir = angka[-4:]\n",
        "indeks_genap = angka[0::2]\n",
        "\n",
        "print(tiga_pertama)\n",
        "print(empat_terakhir)\n",
        "print(indeks_genap)"
      ],
      "metadata": {
        "colab": {
          "base_uri": "https://localhost:8080/"
        },
        "id": "NgCDoV3LRcdQ",
        "outputId": "297d4d5c-171c-4346-db8f-90fbf40b6403"
      },
      "execution_count": null,
      "outputs": [
        {
          "output_type": "stream",
          "name": "stdout",
          "text": [
            "[1, 2, 3]\n",
            "[7, 8, 9, 10]\n",
            "[1, 3, 5, 7, 9]\n"
          ]
        }
      ]
    },
    {
      "cell_type": "markdown",
      "source": [
        "# Praktikum 10 - List 2D – Matriks"
      ],
      "metadata": {
        "id": "t_zY28V6TRM3"
      }
    },
    {
      "cell_type": "code",
      "source": [
        "m = [\n",
        "    [1, 2, 3],\n",
        "    [4, 5, 6]\n",
        "]\n",
        "\n",
        "baris1_kolom2 = m[0][1]\n",
        "baris2_kolom3 = m[1][2]\n",
        "baris_pertama  = m[0]\n",
        "\n",
        "print(\"Baris pertama kolom kedua :\", baris1_kolom2)\n",
        "print(\"Baris kedua kolom ketiga   :\", baris2_kolom3)\n",
        "print(\"Seluruh baris pertama      :\", baris_pertama)"
      ],
      "metadata": {
        "colab": {
          "base_uri": "https://localhost:8080/"
        },
        "id": "FzUn_IoQSacE",
        "outputId": "8936c205-832b-4753-bc6c-21a1d1277157"
      },
      "execution_count": null,
      "outputs": [
        {
          "output_type": "stream",
          "name": "stdout",
          "text": [
            "Baris pertama kolom kedua : 2\n",
            "Baris kedua kolom ketiga   : 6\n",
            "Seluruh baris pertama      : [1, 2, 3]\n"
          ]
        }
      ]
    },
    {
      "cell_type": "markdown",
      "source": [
        "# Praktikum 11 - Operasi Matriks 2D"
      ],
      "metadata": {
        "id": "t3Yp0Z2iZEFk"
      }
    },
    {
      "cell_type": "code",
      "source": [
        "A = [[1,2],\n",
        "     [3,4]]\n",
        "\n",
        "B = [[5,6],\n",
        "     [7,8]]\n",
        "\n",
        "C = [[A[0][0]+B[0][0], A[0][1]+B[0][1]],\n",
        "     [A[1][0]+B[1][0], A[1][1]+B[1][1]]]\n",
        "\n",
        "print(C)"
      ],
      "metadata": {
        "colab": {
          "base_uri": "https://localhost:8080/"
        },
        "id": "Z2hJsXbcU5Nk",
        "outputId": "24d9ca2e-9e80-46b1-c26d-16b769ae5d6b"
      },
      "execution_count": null,
      "outputs": [
        {
          "output_type": "stream",
          "name": "stdout",
          "text": [
            "[[6, 8], [10, 12]]\n"
          ]
        }
      ]
    },
    {
      "cell_type": "markdown",
      "source": [
        "# Praktikum 12 - Rata-rata Nilai Mahasiswa"
      ],
      "metadata": {
        "id": "0iLKAkroZTaA"
      }
    },
    {
      "cell_type": "code",
      "source": [
        "nilai = [[75, 80, 85],\n",
        "         [60, 70, 65],\n",
        "         [90, 95, 92]]\n",
        "\n",
        "rata1 = sum(nilai[0]) / len(nilai[0])\n",
        "rata2 = sum(nilai[1]) / len(nilai[1])\n",
        "rata3 = sum(nilai[2]) / len(nilai[2])\n",
        "\n",
        "total = nilai[0] + nilai[1] + nilai[2]\n",
        "rata_total = sum(total) / len(total)\n",
        "\n",
        "print(rata1)\n",
        "print(rata2)\n",
        "print(rata3)\n",
        "print(rata_total)"
      ],
      "metadata": {
        "colab": {
          "base_uri": "https://localhost:8080/"
        },
        "id": "PJx8b-MvVX3a",
        "outputId": "14da338f-5690-4ee1-ff53-d4f624e2be10"
      },
      "execution_count": null,
      "outputs": [
        {
          "output_type": "stream",
          "name": "stdout",
          "text": [
            "80.0\n",
            "65.0\n",
            "92.33333333333333\n",
            "79.11111111111111\n"
          ]
        }
      ]
    },
    {
      "cell_type": "markdown",
      "source": [
        "# Praktikum 13 - Studi Kasus – Data Toko"
      ],
      "metadata": {
        "id": "HopVf77fZp3e"
      }
    },
    {
      "cell_type": "code",
      "source": [
        "stok = [[\"Buku\", 20],\n",
        "        [\"Pulpen\", 35],\n",
        "        [\"Penghapus\", 15]]\n",
        "\n",
        "for item in stok:\n",
        "    print(item[0], \"stok:\", item[1])\n",
        "\n",
        "terbanyak = stok[0]\n",
        "for item in stok:\n",
        "    if item[1] > terbanyak[1]:\n",
        "        terbanyak = item\n",
        "\n",
        "print(\"Stok terbanyak:\", terbanyak[0], \"-\", terbanyak[1])"
      ],
      "metadata": {
        "colab": {
          "base_uri": "https://localhost:8080/"
        },
        "id": "Y9FNr4ozWfrc",
        "outputId": "c5a9eef0-c2c3-479c-ea48-1389379492b6"
      },
      "execution_count": null,
      "outputs": [
        {
          "output_type": "stream",
          "name": "stdout",
          "text": [
            "Buku stok: 20\n",
            "Pulpen stok: 35\n",
            "Penghapus stok: 15\n",
            "Stok terbanyak: Pulpen - 35\n"
          ]
        }
      ]
    }
  ]
}