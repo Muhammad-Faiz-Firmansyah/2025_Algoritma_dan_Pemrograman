{
  "nbformat": 4,
  "nbformat_minor": 0,
  "metadata": {
    "colab": {
      "provenance": [],
      "authorship_tag": "ABX9TyOVcc6x6hC2AuSm49V4fM7M",
      "include_colab_link": true
    },
    "kernelspec": {
      "name": "python3",
      "display_name": "Python 3"
    },
    "language_info": {
      "name": "python"
    }
  },
  "cells": [
    {
      "cell_type": "markdown",
      "metadata": {
        "id": "view-in-github",
        "colab_type": "text"
      },
      "source": [
        "<a href=\"https://colab.research.google.com/github/Muhammad-Faiz-Firmansyah/2025_Algoritma_dan_Pemrograman/blob/main/Jobsheet_01.ipynb\" target=\"_parent\"><img src=\"https://colab.research.google.com/assets/colab-badge.svg\" alt=\"Open In Colab\"/></a>"
      ]
    },
    {
      "cell_type": "markdown",
      "source": [
        "# Praktikum 01. Menghitung Luas Persegi Panjang"
      ],
      "metadata": {
        "id": "GUYWtmm02Z1M"
      }
    },
    {
      "cell_type": "code",
      "source": [
        "  p = int(input(\"masukan panjang: \"))\n",
        "  l = int(input(\"masukan lebar: \"))\n",
        "  luas = p * l\n",
        "  print (\"Luas persegi panjang = \", luas)"
      ],
      "metadata": {
        "colab": {
          "base_uri": "https://localhost:8080/"
        },
        "id": "qwlhl4yh2hnG",
        "outputId": "2fc41217-8979-4068-f9ad-4c9966e5342c"
      },
      "execution_count": 1,
      "outputs": [
        {
          "output_type": "stream",
          "name": "stdout",
          "text": [
            "masukan panjang: 4\n",
            "masukan lebar: 6\n",
            "Luas persegi panjang =  24\n"
          ]
        }
      ]
    },
    {
      "cell_type": "markdown",
      "source": [
        "# Praktikum 02. Menghitung Luas Segitiga (Rumus Heron)"
      ],
      "metadata": {
        "id": "KDWr1AsK4SQr"
      }
    },
    {
      "cell_type": "code",
      "source": [
        "import math\n",
        "a = float(input(\"masukan sisi a: \"))\n"
      ],
      "metadata": {
        "id": "f-FbwfwZ2r76"
      },
      "execution_count": null,
      "outputs": []
    }
  ]
}