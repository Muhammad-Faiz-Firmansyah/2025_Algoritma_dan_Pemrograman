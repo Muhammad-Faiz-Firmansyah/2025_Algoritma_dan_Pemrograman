{
  "nbformat": 4,
  "nbformat_minor": 0,
  "metadata": {
    "colab": {
      "provenance": [],
      "authorship_tag": "ABX9TyP5kklYuvG5CC7rsFjhptLF",
      "include_colab_link": true
    },
    "kernelspec": {
      "name": "python3",
      "display_name": "Python 3"
    },
    "language_info": {
      "name": "python"
    }
  },
  "cells": [
    {
      "cell_type": "markdown",
      "metadata": {
        "id": "view-in-github",
        "colab_type": "text"
      },
      "source": [
        "<a href=\"https://colab.research.google.com/github/Muhammad-Faiz-Firmansyah/2025_Algoritma_dan_Pemrograman/blob/main/jobsheet_05.ipynb\" target=\"_parent\"><img src=\"https://colab.research.google.com/assets/colab-badge.svg\" alt=\"Open In Colab\"/></a>"
      ]
    },
    {
      "cell_type": "markdown",
      "source": [
        "# Praktikum 01 – Indexing dan Slicing"
      ],
      "metadata": {
        "id": "W8_2L7faqq4J"
      }
    },
    {
      "cell_type": "code",
      "execution_count": null,
      "metadata": {
        "id": "Of2zSQCDtc3W",
        "colab": {
          "base_uri": "https://localhost:8080/"
        },
        "outputId": "e25fb351-1c76-4c85-b1b4-ca4c097ebbaa"
      },
      "outputs": [
        {
          "output_type": "stream",
          "name": "stdout",
          "text": [
            "P\n",
            "Politeknik \n",
            "Semarang\n"
          ]
        }
      ],
      "source": [
        "teks = \"Politeknik Negeri Semarang\"\n",
        "print(teks[0]) # 'P'\n",
        "print(teks[0:11]) # 'Politeknik'\n",
        "print(teks[-8:]) # 'Semarang'"
      ]
    },
    {
      "cell_type": "markdown",
      "source": [
        "# Praktikum 02 – Method Bawaan String"
      ],
      "metadata": {
        "id": "uZ1e9kGYqthu"
      }
    },
    {
      "cell_type": "code",
      "source": [
        "teks = \" Politeknik Negeri Semarang \"\n",
        "print(teks.upper())\n",
        "print(teks.lower())\n",
        "print(teks.title())\n",
        "print(teks.strip())\n",
        "print(teks.split(\" \"))\n",
        "print(\"-\".join([\"Politeknik\",\"Negeri\",\"Semarang\"]))"
      ],
      "metadata": {
        "id": "9RtArRvl9Sfa",
        "outputId": "836efdcd-2780-484f-c6da-c933aa6af3bb",
        "colab": {
          "base_uri": "https://localhost:8080/"
        }
      },
      "execution_count": null,
      "outputs": [
        {
          "output_type": "stream",
          "name": "stdout",
          "text": [
            " POLITEKNIK NEGERI SEMARANG \n",
            " politeknik negeri semarang \n",
            " Politeknik Negeri Semarang \n",
            "Politeknik Negeri Semarang\n",
            "['', 'Politeknik', 'Negeri', 'Semarang', '']\n",
            "Politeknik-Negeri-Semarang\n"
          ]
        }
      ]
    },
    {
      "cell_type": "markdown",
      "source": [
        "# Praktikum 03 – Validasi Password"
      ],
      "metadata": {
        "id": "ksys3TIOqxTU"
      }
    },
    {
      "cell_type": "code",
      "source": [
        "password = input(\"Masukkan password: \")\n",
        "if len(password) >= 8:\n",
        "  print(\"Password valid\")\n",
        "else:\n",
        "  print(\"Password terlalu pendek\")"
      ],
      "metadata": {
        "id": "2ddkAXaR9aic",
        "outputId": "c5fdc5cb-5ae3-46d1-9bde-b707586620bf",
        "colab": {
          "base_uri": "https://localhost:8080/"
        }
      },
      "execution_count": null,
      "outputs": [
        {
          "output_type": "stream",
          "name": "stdout",
          "text": [
            "Masukkan password: faiz\n",
            "Password terlalu pendek\n"
          ]
        }
      ]
    },
    {
      "cell_type": "markdown",
      "source": [
        "# Praktikum 04 – String Formatting dengan F-String"
      ],
      "metadata": {
        "id": "YZkwoxQ1q0su"
      }
    },
    {
      "cell_type": "code",
      "source": [
        "nama = input(\"Masukkan nama: \")\n",
        "umur = int(input(\"Masukkan umur: \"))\n",
        "print(f\"Nama saya {nama}, umur {umur} tahun.\")"
      ],
      "metadata": {
        "id": "nrhPkxf09eQ8",
        "outputId": "dbe35eb7-9c62-4b5e-8b0b-7a925fb6e32a",
        "colab": {
          "base_uri": "https://localhost:8080/"
        }
      },
      "execution_count": null,
      "outputs": [
        {
          "output_type": "stream",
          "name": "stdout",
          "text": [
            "Masukkan nama: faiz\n",
            "Masukkan umur: 18\n",
            "Nama saya faiz, umur 18 tahun.\n"
          ]
        }
      ]
    },
    {
      "cell_type": "markdown",
      "source": [
        "# Praktikum 05 – Operasi dalam F-String"
      ],
      "metadata": {
        "id": "Zqu3LHiTq2Ws"
      }
    },
    {
      "cell_type": "code",
      "source": [
        "a = int(input(\"Masukkan nilai a: \"))\n",
        "b = int(input(\"Masukkan nilai b: \"))\n",
        "print(f\"Hasil penjumlahan {a}+{b} = {a+b}\")\n",
        "print(f\"Hasil pembagian {a}/{b} = {a/b:.2f}\")"
      ],
      "metadata": {
        "id": "KOQtkMTX9pIM",
        "outputId": "b79c2679-1966-4095-875d-a6e865c5fd12",
        "colab": {
          "base_uri": "https://localhost:8080/"
        }
      },
      "execution_count": null,
      "outputs": [
        {
          "output_type": "stream",
          "name": "stdout",
          "text": [
            "Masukkan nilai a: 17\n",
            "Masukkan nilai b: 5\n",
            "Hasil penjumlahan 17+5 = 22\n",
            "Hasil pembagian 17/5 = 3.40\n"
          ]
        }
      ]
    },
    {
      "cell_type": "markdown",
      "source": [
        "# Praktikum 06 – Casting String"
      ],
      "metadata": {
        "id": "T8DoJnHWq5__"
      }
    },
    {
      "cell_type": "code",
      "source": [
        "angka = 123\n",
        "teks = \"456\"\n",
        "\n",
        "print(\"Nilai: \" + str(angka))\n",
        "print(int(teks) + 10)"
      ],
      "metadata": {
        "id": "SJuWTlQ09uU4",
        "outputId": "167c5b0a-1cdb-437b-9386-6db4d9538749",
        "colab": {
          "base_uri": "https://localhost:8080/"
        }
      },
      "execution_count": null,
      "outputs": [
        {
          "output_type": "stream",
          "name": "stdout",
          "text": [
            "Nilai: 123\n",
            "466\n"
          ]
        }
      ]
    },
    {
      "cell_type": "markdown",
      "source": [
        "# Praktikum 07 – Studi Kasus Nyata: Analisis Kalimat"
      ],
      "metadata": {
        "id": "utf5sedaq8MB"
      }
    },
    {
      "cell_type": "code",
      "source": [
        "kalimat = \"Saya kuliah di Politeknik Negeri Semarang\"\n",
        "daftar_kata = kalimat.split(\" \")\n",
        "\n",
        "print(f\"Jumlah kata: {len(daftar_kata)}\")\n",
        "for i, kata in enumerate(daftar_kata, start=1):\n",
        "  print(i, kata)"
      ],
      "metadata": {
        "id": "Nqgv7eBG917Z",
        "outputId": "014fbf6b-c9a4-4a0e-b8ba-e7295601040d",
        "colab": {
          "base_uri": "https://localhost:8080/"
        }
      },
      "execution_count": null,
      "outputs": [
        {
          "output_type": "stream",
          "name": "stdout",
          "text": [
            "Jumlah kata: 6\n",
            "1 Saya\n",
            "2 kuliah\n",
            "3 di\n",
            "4 Politeknik\n",
            "5 Negeri\n",
            "6 Semarang\n"
          ]
        }
      ]
    },
    {
      "cell_type": "markdown",
      "source": [
        "# Praktikum 08 - Indexing dan Slicing"
      ],
      "metadata": {
        "id": "gL4M6ki_rCPm"
      }
    },
    {
      "cell_type": "code",
      "source": [
        "s = \"Politeknik Negeri Semarang\"\n",
        "\n",
        "huruf_pertama = s[0]\n",
        "huruf_terakhir = s[-1]\n",
        "\n",
        "start = s.index(\"Negeri\")\n",
        "kata_negeri = s[start:start+6]\n",
        "\n",
        "print(\"▪ Huruf pertama :\", huruf_pertama)\n",
        "print(\"▪ Huruf terakhir:\", huruf_terakhir)\n",
        "print(\"▪ Kata 'Negeri' :\", kata_negeri)\n"
      ],
      "metadata": {
        "id": "o53XF2bn-A1S",
        "outputId": "eed9d5ab-4b06-49f7-bf73-b8b59103fd27",
        "colab": {
          "base_uri": "https://localhost:8080/"
        }
      },
      "execution_count": 1,
      "outputs": [
        {
          "output_type": "stream",
          "name": "stdout",
          "text": [
            "▪ Huruf pertama : P\n",
            "▪ Huruf terakhir: g\n",
            "▪ Kata 'Negeri' : Negeri\n"
          ]
        }
      ]
    },
    {
      "cell_type": "markdown",
      "source": [
        "# Praktikum 09 - Manipulasi String"
      ],
      "metadata": {
        "id": "-HpArNlhrFcD"
      }
    },
    {
      "cell_type": "code",
      "source": [
        "kalimat = input(\"Masukkan sebuah kalimat: \")\n",
        "\n",
        "print(\"▪ Semua huruf kapital:\", kalimat.upper())\n",
        "print(\"▪ Semua huruf kecil  :\", kalimat.lower())\n",
        "print(\"▪ Panjang kalimat    :\", len(kalimat))"
      ],
      "metadata": {
        "id": "G0um5flbrI8v",
        "outputId": "633b76b8-c2bf-4414-fce0-46d6dd60c1a2",
        "colab": {
          "base_uri": "https://localhost:8080/"
        }
      },
      "execution_count": 2,
      "outputs": [
        {
          "output_type": "stream",
          "name": "stdout",
          "text": [
            "Masukkan sebuah kalimat: hello world!\n",
            "▪ Semua huruf kapital: HELLO WORLD!\n",
            "▪ Semua huruf kecil  : hello world!\n",
            "▪ Panjang kalimat    : 12\n"
          ]
        }
      ]
    },
    {
      "cell_type": "markdown",
      "source": [
        "# Praktikum 10- Validasi Username"
      ],
      "metadata": {
        "id": "ev1MUSfYrK7Z"
      }
    },
    {
      "cell_type": "code",
      "source": [
        "username = input(\"Masukkan username: \")\n",
        "\n",
        "if \" \" in username:\n",
        "    print(\"Error: Username tidak boleh mengandung spasi.\")\n",
        "elif len(username) == 0:\n",
        "    print(\"Error: Username tidak boleh kosong.\")\n",
        "else:\n",
        "    print(\"Username valid.\")"
      ],
      "metadata": {
        "id": "XhGHY61CrOLP",
        "outputId": "7c247bf8-d8b7-40b7-b98a-feeaeb24e391",
        "colab": {
          "base_uri": "https://localhost:8080/"
        }
      },
      "execution_count": 3,
      "outputs": [
        {
          "output_type": "stream",
          "name": "stdout",
          "text": [
            "Masukkan username: Faiz Firmansyah\n",
            "Error: Username tidak boleh mengandung spasi.\n"
          ]
        }
      ]
    },
    {
      "cell_type": "markdown",
      "source": [
        "# Pratikum 11 - String Formatting dengan F-String"
      ],
      "metadata": {
        "id": "qfzsS03NrRoa"
      }
    },
    {
      "cell_type": "code",
      "source": [
        "nama = input(\"Nama    : \")\n",
        "umur = input(\"Umur    : \")\n",
        "jurusan = input(\"Jurusan : \")\n",
        "\n",
        "print(\"\\n=== BIODATA ===\")\n",
        "print(f\"{'Nama':8}: {nama}\")\n",
        "print(f\"{'Umur':8}: {umur} tahun\")\n",
        "print(f\"{'Jurusan':8}: {jurusan}\")"
      ],
      "metadata": {
        "id": "XEpkDONgrUOt",
        "outputId": "94cf0756-08af-4f4b-c3d0-3dfca1e4613d",
        "colab": {
          "base_uri": "https://localhost:8080/"
        }
      },
      "execution_count": 4,
      "outputs": [
        {
          "output_type": "stream",
          "name": "stdout",
          "text": [
            "Nama    : andi\n",
            "Umur    : 20\n",
            "Jurusan : Teknologi Rekayasa Komputer\n",
            "\n",
            "=== BIODATA ===\n",
            "Nama    : andi\n",
            "Umur    : 20 tahun\n",
            "Jurusan : Teknologi Rekayasa Komputer\n"
          ]
        }
      ]
    },
    {
      "cell_type": "markdown",
      "source": [
        "# Praktikum 12 - Operasi dalam F-String"
      ],
      "metadata": {
        "id": "eYSpEKMVrUtM"
      }
    },
    {
      "cell_type": "code",
      "source": [
        "try:\n",
        "    a = float(input(\"Masukkan bilangan pertama: \"))\n",
        "    b = float(input(\"Masukkan bilangan kedua  : \"))\n",
        "\n",
        "    jumlah = a + b\n",
        "    kali = a * b\n",
        "\n",
        "    print(f\"▪ Penjumlahan : {jumlah}\")\n",
        "    print(f\"▪ Perkalian   : {kali}\")\n",
        "\n",
        "    if b == 0:\n",
        "        print(\"▪ Pembagian   : Error (pembagi nol)\")\n",
        "    else:\n",
        "        bagi = a / b\n",
        "        print(f\"▪ Pembagian   : {bagi:.3f}\")\n",
        "\n",
        "except ValueError:\n",
        "    print(\"Input tidak valid. Masukkan angka.\")\n"
      ],
      "metadata": {
        "id": "B1yooZWGrX3X",
        "outputId": "6f2a9ab5-5e72-4133-95cd-253b9036b7d3",
        "colab": {
          "base_uri": "https://localhost:8080/"
        }
      },
      "execution_count": 5,
      "outputs": [
        {
          "output_type": "stream",
          "name": "stdout",
          "text": [
            "Masukkan bilangan pertama: 7\n",
            "Masukkan bilangan kedua  : 2\n",
            "▪ Penjumlahan : 9.0\n",
            "▪ Perkalian   : 14.0\n",
            "▪ Pembagian   : 3.500\n"
          ]
        }
      ]
    },
    {
      "cell_type": "markdown",
      "source": [
        "# Praktikum 13 - Casting Data"
      ],
      "metadata": {
        "id": "I2G_E4-PrYPm"
      }
    },
    {
      "cell_type": "code",
      "source": [
        "s = input(\"Masukkan angka (string): \")\n",
        "\n",
        "try:\n",
        "    n_int = int(s)\n",
        "    print(f\"▪ Kuadrat (int): {n_int ** 2}\")\n",
        "except ValueError:\n",
        "    print(\"▪ Kuadrat (int): Error - tidak bisa dikonversi ke integer.\")\n",
        "\n",
        "try:\n",
        "    n_float = float(s)\n",
        "    print(f\"▪ Sebagai float: {n_float:.2f}\")\n",
        "except ValueError:\n",
        "    print(\"▪ Sebagai float: Error - tidak bisa dikonversi ke float.\")\n"
      ],
      "metadata": {
        "id": "Ypy2qwWhrbSJ",
        "outputId": "5187e1f5-00e4-41f0-fc7c-5bbdb16e9ccd",
        "colab": {
          "base_uri": "https://localhost:8080/"
        }
      },
      "execution_count": 6,
      "outputs": [
        {
          "output_type": "stream",
          "name": "stdout",
          "text": [
            "Masukkan angka (string): 12.5\n",
            "▪ Kuadrat (int): Error - tidak bisa dikonversi ke integer.\n",
            "▪ Sebagai float: 12.50\n"
          ]
        }
      ]
    },
    {
      "cell_type": "markdown",
      "source": [
        "# Praktikum 14 - Studi Kasus – Analisis Teks"
      ],
      "metadata": {
        "id": "wNRZi-hJrc-G"
      }
    },
    {
      "cell_type": "code",
      "source": [
        "kalimat = input(\"Masukkan kalimat: \")\n",
        "\n",
        "kata = kalimat.split()\n",
        "jumlah = len(kata)\n",
        "terpanjang = max(kata, key=len) if kata else \"(tidak ada)\"\n",
        "urut_abjad = sorted(kata, key=str.lower)\n",
        "\n",
        "print(\"▪ Jumlah kata     :\", jumlah)\n",
        "print(\"▪ Kata terpanjang :\", terpanjang)\n",
        "print(\"▪ Urut abjad      :\", \", \".join(urut_abjad) if urut_abjad else \"(kosong)\")\n"
      ],
      "metadata": {
        "id": "3E1Ye6-arf-D",
        "outputId": "7ce35db2-3206-41cf-9d3f-0db761ff0112",
        "colab": {
          "base_uri": "https://localhost:8080/"
        }
      },
      "execution_count": 7,
      "outputs": [
        {
          "output_type": "stream",
          "name": "stdout",
          "text": [
            "Masukkan kalimat: belajar python itu asyik dan menyenangkan\n",
            "▪ Jumlah kata     : 6\n",
            "▪ Kata terpanjang : menyenangkan\n",
            "▪ Urut abjad      : asyik, belajar, dan, itu, menyenangkan, python\n"
          ]
        }
      ]
    }
  ]
}