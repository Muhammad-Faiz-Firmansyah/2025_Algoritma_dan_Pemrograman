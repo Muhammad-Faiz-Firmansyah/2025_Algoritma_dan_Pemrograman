{
  "nbformat": 4,
  "nbformat_minor": 0,
  "metadata": {
    "colab": {
      "provenance": [],
      "authorship_tag": "ABX9TyP3i7+kj1dTYr9z47iJFAjF",
      "include_colab_link": true
    },
    "kernelspec": {
      "name": "python3",
      "display_name": "Python 3"
    },
    "language_info": {
      "name": "python"
    }
  },
  "cells": [
    {
      "cell_type": "markdown",
      "metadata": {
        "id": "view-in-github",
        "colab_type": "text"
      },
      "source": [
        "<a href=\"https://colab.research.google.com/github/Muhammad-Faiz-Firmansyah/2025_Algoritma_dan_Pemrograman/blob/main/jobsheet_04.ipynb\" target=\"_parent\"><img src=\"https://colab.research.google.com/assets/colab-badge.svg\" alt=\"Open In Colab\"/></a>"
      ]
    },
    {
      "cell_type": "markdown",
      "source": [
        "# Praktikum 01 – Perulangan For dengan Range"
      ],
      "metadata": {
        "id": "D2gbHbRKbCTN"
      }
    },
    {
      "cell_type": "code",
      "execution_count": 1,
      "metadata": {
        "id": "Of2zSQCDtc3W",
        "colab": {
          "base_uri": "https://localhost:8080/"
        },
        "outputId": "7329e38b-974b-49f6-dee8-f12bd40eb75c"
      },
      "outputs": [
        {
          "output_type": "stream",
          "name": "stdout",
          "text": [
            "1\n",
            "2\n",
            "3\n",
            "4\n",
            "5\n"
          ]
        }
      ],
      "source": [
        "for i in range(1, 6):\n",
        "  print(i)"
      ]
    },
    {
      "cell_type": "markdown",
      "source": [
        "# Pratikum 02 - Perulangan While"
      ],
      "metadata": {
        "id": "cpgwNjGCb4XE"
      }
    },
    {
      "cell_type": "code",
      "source": [
        "n = int(input(\"Masukan angka: \"))\n",
        "while n > 0:\n",
        "  print(n)\n",
        "  n -= 1"
      ],
      "metadata": {
        "id": "76gMiFCWbkms",
        "outputId": "7ea9b4b3-e59b-4b59-ef97-fb10dae06dc3",
        "colab": {
          "base_uri": "https://localhost:8080/"
        }
      },
      "execution_count": 2,
      "outputs": [
        {
          "output_type": "stream",
          "name": "stdout",
          "text": [
            "Masukan angka: 5\n",
            "5\n",
            "4\n",
            "3\n",
            "2\n",
            "1\n"
          ]
        }
      ]
    },
    {
      "cell_type": "markdown",
      "source": [
        "#"
      ],
      "metadata": {
        "id": "wP2hUE5pcSpA"
      }
    },
    {
      "cell_type": "code",
      "source": [],
      "metadata": {
        "id": "EyuZrZrKcOMY"
      },
      "execution_count": null,
      "outputs": []
    }
  ]
}