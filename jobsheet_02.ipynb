{
  "nbformat": 4,
  "nbformat_minor": 0,
  "metadata": {
    "colab": {
      "provenance": [],
      "name": "jobsheet_02.ipynb",
      "authorship_tag": "ABX9TyPYhwGSGd73F2GdDnky/mwp",
      "include_colab_link": true
    },
    "kernelspec": {
      "name": "python3",
      "display_name": "Python 3"
    },
    "language_info": {
      "name": "python"
    }
  },
  "cells": [
    {
      "cell_type": "markdown",
      "metadata": {
        "id": "view-in-github",
        "colab_type": "text"
      },
      "source": [
        "<a href=\"https://colab.research.google.com/github/Muhammad-Faiz-Firmansyah/2025_Algoritma_dan_Pemrograman/blob/main/jobsheet_02.ipynb\" target=\"_parent\"><img src=\"https://colab.research.google.com/assets/colab-badge.svg\" alt=\"Open In Colab\"/></a>"
      ]
    },
    {
      "cell_type": "markdown",
      "source": [
        "#Praktikum 01 – Pengenalan Variabel dan Tipe Data"
      ],
      "metadata": {
        "id": "IbXIerm9-ykx"
      }
    },
    {
      "cell_type": "code",
      "execution_count": null,
      "metadata": {
        "colab": {
          "base_uri": "https://localhost:8080/"
        },
        "id": "_gV8JZWg902r",
        "outputId": "6f424ab0-95d3-4d70-a28f-b7f43fdacb07"
      },
      "outputs": [
        {
          "output_type": "stream",
          "name": "stdout",
          "text": [
            "Umur: 20 -> <class 'int'>\n",
            " \n",
            "Tinggi: 170.5 -> <class 'float'>\n",
            "Nama: Faiz -> <class 'str'>\n",
            "Status Mahasiswa: True -> <class 'bool'>\n",
            "Nilai: [80, 85, 90] -> <class 'list'>\n",
            "koordinat: (10, 20) -> <class 'tuple'>\n",
            "Data Mahasiswa: {'nama': 'Faiz', 'umur': 18, 'prodi': 'TRK'} -> <class 'dict'>\n",
            "Hobi: {'main game', 'musik', 'panahan'} -> <class 'set'>\n"
          ]
        }
      ],
      "source": [
        "# integer\n",
        "umur = 20\n",
        "print(\"Umur:\", umur, \"->\", type(umur))\n",
        "print(\" \")\n",
        "\n",
        "# Float\n",
        "tinggi = 170.5\n",
        "print(\"Tinggi:\", tinggi, \"->\", type(tinggi))\n",
        "\n",
        "# String\n",
        "nama = \"Faiz\"\n",
        "print(\"Nama:\", nama, \"->\", type(nama))\n",
        "\n",
        "# Boolean\n",
        "is_mahasiswa = True\n",
        "print(\"Status Mahasiswa:\", is_mahasiswa, \"->\", type(is_mahasiswa))\n",
        "\n",
        "# List\n",
        "nilai = [80,85,90]\n",
        "print(\"Nilai:\", nilai, \"->\", type(nilai))\n",
        "\n",
        "# Tuple\n",
        "koordinat = (10,20)\n",
        "print(\"koordinat:\", koordinat,\"->\", type(koordinat))\n",
        "\n",
        "# Dictionary\n",
        "mahasiswa = {\"nama\": \"Faiz\", \"umur\": 18, \"prodi\": \"TRK\"}\n",
        "print(\"Data Mahasiswa:\", mahasiswa,\"->\", type(mahasiswa))\n",
        "\n",
        "# Set\n",
        "hobi = {\"panahan\",\"main game\",\"musik\"}\n",
        "print(\"Hobi:\", hobi, \"->\",type(hobi))"
      ]
    },
    {
      "cell_type": "markdown",
      "source": [
        "#Praktikum 02 – Input dan Output Dasar"
      ],
      "metadata": {
        "id": "-m3eJZJVRGmb"
      }
    },
    {
      "cell_type": "code",
      "source": [
        "# input string\n",
        "nama = input(\"Masukan nama anda: \")\n",
        "\n",
        "# input integer\n",
        "umur = int(input(\"Masukan umur anda: \"))\n",
        "\n",
        "# input float\n",
        "tinggi = float(input(\"Masukan tinggi badan (cm): \"))\n",
        "\n",
        "# output standar\n",
        "print(\"Halo,\", nama, \"umur anda:\", umur, \"tahun, tinggi:\", tinggi, \"cm\")\n",
        "\n",
        "# Ouput dengan format()\n",
        "print(\"Halo {0}, umur Anda {1} tahun, tinggi {2} cm\".format(nama, umur, tinggi))\n",
        "\n",
        "# Output dengan f=string\n",
        "print(f\"Halo {nama}, umur anda {umur} tahun, tinggi {tinggi} cm\")"
      ],
      "metadata": {
        "id": "qqJm6WZi_Lyv",
        "colab": {
          "base_uri": "https://localhost:8080/"
        },
        "outputId": "01c112f0-d2a4-477f-e366-d0c1dffb69af"
      },
      "execution_count": null,
      "outputs": [
        {
          "output_type": "stream",
          "name": "stdout",
          "text": [
            "Masukan nama anda: Muhammad Faiz Firmansyah\n",
            "Masukan umur anda: 18\n",
            "Masukan tinggi badan (cm): 158.5\n",
            "Halo, Muhammad Faiz Firmansyah umur anda: 18 tahun, tinggi: 158.5 cm\n",
            "Halo Muhammad Faiz Firmansyah, umur Anda 18 tahun, tinggi 158.5 cm\n",
            "Halo Muhammad Faiz Firmansyah, umur anda 18 tahun, tinggi 158.5 cm\n"
          ]
        }
      ]
    },
    {
      "cell_type": "markdown",
      "source": [
        "# Praktikum 03 – Operator Aritmatika"
      ],
      "metadata": {
        "id": "lt_nUA5UdvwY"
      }
    },
    {
      "cell_type": "code",
      "source": [
        "a = 15\n",
        "b = 4\n",
        "\n",
        "print(\"a + b =\", a + b)\n",
        "print(\"a - b =\", a - b)\n",
        "print(\"a * b =\", a * b)\n",
        "print(\"a / b =\", a / b)\n",
        "print(\"a // b =\", a // b)\n",
        "print(\"a % b =\", a % b)\n",
        "print(\"a ** b =\", a ** b)\n",
        "#Hasil program menunjukkan bahwa Python mampu melakukan perhitungan dasar dengan operator yang sederhana dan intuitif."
      ],
      "metadata": {
        "colab": {
          "base_uri": "https://localhost:8080/"
        },
        "id": "QLv0OUbvZMv1",
        "outputId": "f952622e-348f-4f83-b394-658d99dd3498"
      },
      "execution_count": null,
      "outputs": [
        {
          "output_type": "stream",
          "name": "stdout",
          "text": [
            "a + b = 19\n",
            "a - b = 11\n",
            "a * b = 60\n",
            "a / b = 3.75\n",
            "a // b = 3\n",
            "a % b = 3\n",
            "a ** b = 50625\n"
          ]
        }
      ]
    },
    {
      "cell_type": "markdown",
      "source": [
        "#Praktikum 04 – Operator Relasional"
      ],
      "metadata": {
        "id": "JhNoh_Rdgbdw"
      }
    },
    {
      "cell_type": "code",
      "source": [
        "x = 10\n",
        "y = 20\n",
        "\n",
        "print(\"x == y :\", x == y)\n",
        "print(\"x != y :\", x != y)\n",
        "print(\"x < y :\", x < y)\n",
        "print(\"x > y :\", x > y)\n",
        "print(\"x <= y :\", x <= y)\n",
        "print(\"x >= y :\", x >= y)\n",
        "# Dalam kehidupan nyata, operator relasional bisa dipakai untuk mengecek apakah nilai ujian ≥ 60, atau apakah kehadiran mahasiswa memenuhi batas minimal."
      ],
      "metadata": {
        "colab": {
          "base_uri": "https://localhost:8080/"
        },
        "id": "TTIUE6fVfCT0",
        "outputId": "279e732b-e5c2-4a4c-965b-99ebe06b4076"
      },
      "execution_count": null,
      "outputs": [
        {
          "output_type": "stream",
          "name": "stdout",
          "text": [
            "x == y : False\n",
            "x != y : True\n",
            "x < y : True\n",
            "x > y : False\n",
            "x <= y : True\n",
            "x >= y : False\n"
          ]
        }
      ]
    },
    {
      "cell_type": "markdown",
      "source": [
        "#Praktikum 05 – Operator Logika dengan Studi Kasus Nyata"
      ],
      "metadata": {
        "id": "Iy5SQ2dYiBWe"
      }
    },
    {
      "cell_type": "code",
      "source": [
        "# Operator logika dasar\n",
        "a = True\n",
        "b = False\n",
        "\n",
        "print(\"a and b =\", a and b)\n",
        "print(\"a or b =\", a or b)\n",
        "print(\"not a =\",  not a)\n",
        "\n",
        "# Studi kasus nyata: kelulusan\n",
        "nilai = int(input(\"Masukkan nilai ujian: \"))\n",
        "hadir = int(input(\"Masukkan jumlah kehadiran: \"))\n",
        "\n",
        "lulus_nilai = nilai >= 60\n",
        "lulus_hadir = hadir >= 12 # dari 16 pertemuan\n",
        "\n",
        "if lulus_nilai and lulus_hadir:\n",
        "  print(\"Status: LULUS\")\n",
        "else:\n",
        "  print(\"Status: TIDAK LULUS\")"
      ],
      "metadata": {
        "colab": {
          "base_uri": "https://localhost:8080/"
        },
        "id": "O6rgfr_UhcLw",
        "outputId": "f538b8c0-08a9-48bb-eab8-467715470c6a"
      },
      "execution_count": null,
      "outputs": [
        {
          "output_type": "stream",
          "name": "stdout",
          "text": [
            "a and b = False\n",
            "a or b = True\n",
            "not a = False\n",
            "Masukkan nilai ujian: 50\n",
            "Masukkan jumlah kehadiran: 16\n",
            "Status: TIDAK LULUS\n"
          ]
        }
      ]
    },
    {
      "cell_type": "markdown",
      "source": [
        "#Praktikum 06 – Program Kasir Sederhana"
      ],
      "metadata": {
        "id": "Nsn-QRDxjyR5"
      }
    },
    {
      "cell_type": "code",
      "source": [
        "barang = input(\"Masukan nama barang: \")\n",
        "harga = float(input(\"Masukkan harga barang: \"))\n",
        "jumlah = int(input(\"Masukkan jumlah barang: \"))\n",
        "\n",
        "total = harga * jumlah\n",
        "\n",
        "# Aturan diskon\n",
        "if total >= 500000:\n",
        "  diskon = 0.2\n",
        "elif total >= 250000:\n",
        "  diskon = 0.1\n",
        "else:\n",
        "  diskon = 0\n",
        "\n",
        "potongan = total * diskon\n",
        "bayar = total - potongan\n",
        "\n",
        "print(\"\\n===== Struk Belanja =====\")\n",
        "print(f\"Barang : {barang}\")\n",
        "print(f\"Jumlah : {jumlah}\")\n",
        "print(f\"Total : Rp {total}\")\n",
        "print(f\"Diskon :  {diskon * 100}%\")\n",
        "print(f\"Bayar : Rp {bayar}\")\n"
      ],
      "metadata": {
        "colab": {
          "base_uri": "https://localhost:8080/"
        },
        "id": "OQTaLzn7i37q",
        "outputId": "a59b969a-4e86-433e-8fd0-37e77e0b6edd"
      },
      "execution_count": null,
      "outputs": [
        {
          "output_type": "stream",
          "name": "stdout",
          "text": [
            "Masukan nama barang: keyboard\n",
            "Masukkan harga barang: 300000\n",
            "Masukkan jumlah barang: 1\n",
            "\n",
            "===== Struk Belanja =====\n",
            "Barang : keyboard\n",
            "Jumlah : 1\n",
            "Total : Rp 300000.0\n",
            "Diskon :  10.0%\n",
            "Bayar : Rp 270000.0\n"
          ]
        }
      ]
    },
    {
      "cell_type": "markdown",
      "source": [
        "#Praktikum 07 – Identitas Mahasiswa"
      ],
      "metadata": {
        "id": "SwlvII44a29C"
      }
    },
    {
      "cell_type": "code",
      "source": [
        "nama = \"Muhammad Faiz Firmansyah\"\n",
        "umur = 18\n",
        "tinggi = 158.5\n",
        "status_aktif = True\n",
        "\n",
        "print(\"------------------ BIODATA ----------------------\")\n",
        "print(f\"Nama          : {nama}\")\n",
        "print(f\"Umur          : {umur} tahun\")\n",
        "print(f\"Tinggi Badan  : {tinggi} cm\")\n",
        "print(f\"Status Aktif  : {status_aktif}\")\n",
        "\n"
      ],
      "metadata": {
        "id": "bntautBRkkvI",
        "colab": {
          "base_uri": "https://localhost:8080/"
        },
        "outputId": "e51327bd-c121-441f-cb8e-72d9a76b149a"
      },
      "execution_count": null,
      "outputs": [
        {
          "output_type": "stream",
          "name": "stdout",
          "text": [
            "------------------ BIODATA ----------------------\n",
            "Nama          : Muhammad Faiz Firmansyah\n",
            "Umur          : 18 tahun\n",
            "Tinggi Badan  : 158.5 cm\n",
            "Status Aktif  : True\n"
          ]
        }
      ]
    },
    {
      "cell_type": "markdown",
      "source": [
        "# Pratikum 08 - Operasi Aritmatika"
      ],
      "metadata": {
        "id": "g_4_QfupBUk_"
      }
    },
    {
      "cell_type": "code",
      "source": [
        "a = int(input(\"Masukan nilai a: \"))\n",
        "b = int(input(\"Masukan nilai b: \"))\n",
        "\n",
        "print(\"\\n--- Hasil Perhitungan ---\")\n",
        "print(\"a + b =\", a + b)\n",
        "print(\"a - b =\", a - b)\n",
        "print(\"a * b =\", a * b)\n",
        "print(\"a / b =\", a / b)\n",
        "print(\"a // b =\", a // b)\n",
        "print(\"a % b =\", a % b)\n",
        "print(\"a ** b =\", a ** b)\n",
        "print(\"-------------------------\")"
      ],
      "metadata": {
        "colab": {
          "base_uri": "https://localhost:8080/"
        },
        "id": "v6lmQenvAmj_",
        "outputId": "fe2d7df3-1b53-47a6-c155-c84aaebff409"
      },
      "execution_count": null,
      "outputs": [
        {
          "output_type": "stream",
          "name": "stdout",
          "text": [
            "Masukan nilai a: 6\n",
            "Masukan nilai b: 20\n",
            "\n",
            "--- Hasil Perhitungan ---\n",
            "a + b = 26\n",
            "a - b = -14\n",
            "a * b = 120\n",
            "a / b = 0.3\n",
            "a // b = 0\n",
            "a % b = 6\n",
            "a ** b = 3656158440062976\n",
            "-------------------------\n"
          ]
        }
      ]
    },
    {
      "cell_type": "markdown",
      "source": [
        "# Pratikum 09 - Konversi Nilai"
      ],
      "metadata": {
        "id": "JkSK-s7qIDBo"
      }
    },
    {
      "cell_type": "code",
      "source": [
        "try:\n",
        "  angka_desimal = float(input(\"Masukan nilai desimal: \"))\n",
        "  konversi_integer = int(angka_desimal)\n",
        "  konversi_string = str(angka_desimal)\n",
        "  hasil_pembulatan = round(angka_desimal, 2)\n",
        "\n",
        "  print(\"\\n--- Hasil Konversi dan Pembulatan ---\")\n",
        "  print(f\"Angka Asli (float)      : {angka_desimal}\")\n",
        "  print(f\"Diubah menjadi integer  : {konversi_integer}\")\n",
        "  print(f\"Diubah menjadi string   : {konversi_string}\")\n",
        "  print(f\"Dibulatkan (2 desimal)  : {hasil_pembulatan:.2f}\")\n",
        "  print(\"---------------------------------------\")\n",
        "except ValueError:\n",
        "  print(\"Masukan nilai yang valid\")"
      ],
      "metadata": {
        "colab": {
          "base_uri": "https://localhost:8080/"
        },
        "id": "sE6TfP7AIKfo",
        "outputId": "1014cc1c-dc68-4da5-fdee-fb8891ebff3e"
      },
      "execution_count": null,
      "outputs": [
        {
          "output_type": "stream",
          "name": "stdout",
          "text": [
            "Masukan nilai desimal: 123.456\n",
            "\n",
            "--- Hasil Konversi dan Pembulatan ---\n",
            "Angka Asli (float)      : 123.456\n",
            "Diubah menjadi integer  : 123\n",
            "Diubah menjadi string   : 123.456\n",
            "Dibulatkan (2 desimal)  : 123.46\n",
            "---------------------------------------\n"
          ]
        }
      ]
    },
    {
      "cell_type": "markdown",
      "source": [
        "# Pratikum 10 - 6.\tOperator Relasional\n"
      ],
      "metadata": {
        "id": "k7cxN2a0kI_C"
      }
    },
    {
      "cell_type": "code",
      "source": [
        "print(\"--- Program perbandingan Dua Bilangan ---\")\n",
        "try:\n",
        "  bilangan1 = float(input(\"Masukan bilangan pertama: \"))\n",
        "  bilangan2 = float(input(\"Masukan bilangan kedua: \"))\n",
        "\n",
        "  print(\"\\n--- Hasil Perbandingan ---\")\n",
        "  print(f\"Apakah {bilangan1} sama dengan {bilangan2}? \\t ({bilangan1} == {bilangan2})  : {bilangan1 == bilangan2}\")\n",
        "  print(f\"Apakah {bilangan1} tidak sama dengan {bilangan2}? ({bilangan1} != {bilangan2})  : {bilangan1 != bilangan2}\")\n",
        "  print(f\"Apakah {bilangan1} lebih kecil dari {bilangan2}? \\t ({bilangan1} < {bilangan2})   : {bilangan1 < bilangan2}\")\n",
        "  print(f\"Apakah {bilangan1} lebih besar dari {bilangan2}? \\t ({bilangan1} > {bilangan2})   : {bilangan1 > bilangan2}\")\n",
        "  print(f\"Apakah {bilangan1} lebih kecil atau sama dengan {bilangan2}? ({bilangan1} <= {bilangan2}) : {bilangan1 <= bilangan2}\")\n",
        "  print(f\"Apakah {bilangan1} lebih besar atau sama dengan {bilangan2}? ({bilangan1} >= {bilangan2}) : {bilangan1 >= bilangan2}\")\n",
        "  print(\"--------------------------\")\n",
        "except ValueError:\n",
        "  print(\"Masukan nilai yang valid\")\n"
      ],
      "metadata": {
        "colab": {
          "base_uri": "https://localhost:8080/"
        },
        "id": "qOCJ2lh2IoLz",
        "outputId": "779a64a3-037a-4f68-9ded-77264289e8f2"
      },
      "execution_count": null,
      "outputs": [
        {
          "output_type": "stream",
          "name": "stdout",
          "text": [
            "--- Program perbandingan Dua Bilangan ---\n",
            "Masukan bilangan pertama: 5\n",
            "Masukan bilangan kedua: 7\n",
            "\n",
            "--- Hasil Perbandingan ---\n",
            "Apakah 5.0 sama dengan 7.0? \t (5.0 == 7.0)  : False\n",
            "Apakah 5.0 tidak sama dengan 7.0? (5.0 != 7.0)  : True\n",
            "Apakah 5.0 lebih kecil dari 7.0? \t (5.0 < 7.0)   : True\n",
            "Apakah 5.0 lebih besar dari 7.0? \t (5.0 > 7.0)   : False\n",
            "Apakah 5.0 lebih kecil atau sama dengan 7.0? (5.0 <= 7.0) : True\n",
            "Apakah 5.0 lebih besar atau sama dengan 7.0? (5.0 >= 7.0) : False\n",
            "--------------------------\n"
          ]
        }
      ]
    }
  ]
}