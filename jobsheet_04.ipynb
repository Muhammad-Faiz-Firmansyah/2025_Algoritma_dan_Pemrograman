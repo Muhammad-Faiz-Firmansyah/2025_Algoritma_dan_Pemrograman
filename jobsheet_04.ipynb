{
  "nbformat": 4,
  "nbformat_minor": 0,
  "metadata": {
    "colab": {
      "provenance": [],
      "authorship_tag": "ABX9TyPlHRfzXRT4qdPMjINXqnaz",
      "include_colab_link": true
    },
    "kernelspec": {
      "name": "python3",
      "display_name": "Python 3"
    },
    "language_info": {
      "name": "python"
    }
  },
  "cells": [
    {
      "cell_type": "markdown",
      "metadata": {
        "id": "view-in-github",
        "colab_type": "text"
      },
      "source": [
        "<a href=\"https://colab.research.google.com/github/Muhammad-Faiz-Firmansyah/2025_Algoritma_dan_Pemrograman/blob/main/jobsheet_04.ipynb\" target=\"_parent\"><img src=\"https://colab.research.google.com/assets/colab-badge.svg\" alt=\"Open In Colab\"/></a>"
      ]
    },
    {
      "cell_type": "markdown",
      "source": [
        "# Praktikum 01 – Perulangan For dengan Range"
      ],
      "metadata": {
        "id": "D2gbHbRKbCTN"
      }
    },
    {
      "cell_type": "code",
      "execution_count": null,
      "metadata": {
        "id": "Of2zSQCDtc3W",
        "colab": {
          "base_uri": "https://localhost:8080/"
        },
        "outputId": "7329e38b-974b-49f6-dee8-f12bd40eb75c"
      },
      "outputs": [
        {
          "output_type": "stream",
          "name": "stdout",
          "text": [
            "1\n",
            "2\n",
            "3\n",
            "4\n",
            "5\n"
          ]
        }
      ],
      "source": [
        "for i in range(1, 6):\n",
        "  print(i)"
      ]
    },
    {
      "cell_type": "markdown",
      "source": [
        "# Pratikum 02 - Perulangan While"
      ],
      "metadata": {
        "id": "cpgwNjGCb4XE"
      }
    },
    {
      "cell_type": "code",
      "source": [
        "n = int(input(\"Masukan angka: \"))\n",
        "while n > 0:\n",
        "  print(n)\n",
        "  n -= 1"
      ],
      "metadata": {
        "id": "76gMiFCWbkms",
        "outputId": "7ea9b4b3-e59b-4b59-ef97-fb10dae06dc3",
        "colab": {
          "base_uri": "https://localhost:8080/"
        }
      },
      "execution_count": null,
      "outputs": [
        {
          "output_type": "stream",
          "name": "stdout",
          "text": [
            "Masukan angka: 5\n",
            "5\n",
            "4\n",
            "3\n",
            "2\n",
            "1\n"
          ]
        }
      ]
    },
    {
      "cell_type": "markdown",
      "source": [
        "# Praktikum 03 – Nested Loop (Segitiga Bintang)"
      ],
      "metadata": {
        "id": "QMKW1sfsRX9Y"
      }
    },
    {
      "cell_type": "markdown",
      "source": [
        "#"
      ],
      "metadata": {
        "id": "wP2hUE5pcSpA"
      }
    },
    {
      "cell_type": "code",
      "source": [
        "for i in range(1, 6):\n",
        "  for j in range(i):\n",
        "    print(\"*\", end=\"\")\n",
        "  print()"
      ],
      "metadata": {
        "id": "EyuZrZrKcOMY",
        "colab": {
          "base_uri": "https://localhost:8080/"
        },
        "outputId": "78c563d3-1b94-41c7-b3a4-a2d624d25f2e"
      },
      "execution_count": null,
      "outputs": [
        {
          "output_type": "stream",
          "name": "stdout",
          "text": [
            "*\n",
            "**\n",
            "***\n",
            "****\n",
            "*****\n"
          ]
        }
      ]
    },
    {
      "cell_type": "markdown",
      "source": [
        "# Praktikum 04 - Break dan continue"
      ],
      "metadata": {
        "id": "NYw0vqVmR4Fs"
      }
    },
    {
      "cell_type": "code",
      "source": [
        "for i in range(1, 11):\n",
        "  if i == 5:\n",
        "    print(\"Angka 5 ditemukan\")\n",
        "    break\n",
        "\n",
        "# Break"
      ],
      "metadata": {
        "colab": {
          "base_uri": "https://localhost:8080/"
        },
        "id": "M4L5qOxeRqzt",
        "outputId": "e68f4218-4a6b-4800-cd71-a539f7274865"
      },
      "execution_count": null,
      "outputs": [
        {
          "output_type": "stream",
          "name": "stdout",
          "text": [
            "Angka 5 ditemukan\n"
          ]
        }
      ]
    },
    {
      "cell_type": "code",
      "source": [
        "for i in range(1, 6):\n",
        "  if i % 2 == 1:\n",
        "    continue\n",
        "  print(i)\n",
        "\n",
        "# Continue"
      ],
      "metadata": {
        "colab": {
          "base_uri": "https://localhost:8080/"
        },
        "id": "CErKb5QJSNgw",
        "outputId": "cbe91a87-1679-4cf3-a448-346f45c4bcfa"
      },
      "execution_count": null,
      "outputs": [
        {
          "output_type": "stream",
          "name": "stdout",
          "text": [
            "2\n",
            "4\n"
          ]
        }
      ]
    },
    {
      "cell_type": "markdown",
      "source": [
        "# Praktikum 05 – For pada Dictionary"
      ],
      "metadata": {
        "id": "W21DLdwlUPrT"
      }
    },
    {
      "cell_type": "code",
      "source": [
        "data = {\"Nama\": \"Andi\", \"Umur\": 20, \"Prodi\": \"TRK\"}\n",
        "\n",
        "for k, v in data.items():\n",
        "  print(k, \":\", v)"
      ],
      "metadata": {
        "colab": {
          "base_uri": "https://localhost:8080/"
        },
        "id": "4p9MDUssUNVE",
        "outputId": "48f55209-a8d0-44a6-bcfd-126f618c3f4b"
      },
      "execution_count": null,
      "outputs": [
        {
          "output_type": "stream",
          "name": "stdout",
          "text": [
            "Nama : Andi\n",
            "Umur : 20\n",
            "Prodi : TRK\n"
          ]
        }
      ]
    },
    {
      "cell_type": "markdown",
      "source": [
        "# Praktikum 06 – For dengan Enumerate"
      ],
      "metadata": {
        "id": "43AvNYYdU6aM"
      }
    },
    {
      "cell_type": "code",
      "source": [
        "daftar = [\"Andi\", \"Budi\", \"Cici\"]\n",
        "\n",
        "for i, nama in enumerate(daftar, start=1):\n",
        "  print(i, nama)"
      ],
      "metadata": {
        "colab": {
          "base_uri": "https://localhost:8080/"
        },
        "id": "5B4QnXMuUtTa",
        "outputId": "6d91a044-3dc2-42a6-da54-11d5f95532b3"
      },
      "execution_count": null,
      "outputs": [
        {
          "output_type": "stream",
          "name": "stdout",
          "text": [
            "1 Andi\n",
            "2 Budi\n",
            "3 Cici\n"
          ]
        }
      ]
    },
    {
      "cell_type": "markdown",
      "source": [
        "# Praktikum 07 – Studi Kasus: Program Kasir Multi-Item"
      ],
      "metadata": {
        "id": "IKvhW3yPVfnH"
      }
    },
    {
      "cell_type": "code",
      "source": [
        "total = 0\n",
        "\n",
        "while True:\n",
        "  barang = input(\"Masukkan nama barang (ketik 'selesai' untuk berhenti)\")\n",
        "  if barang.lower() == \"selesai\":\n",
        "    break\n",
        "  harga = float(input(f\"Masukkan harga (barang): \"))\n",
        "  jumlah = int(input(f\"Masukkan jumlah barang: \"))\n",
        "  subtotal = harga * jumlah\n",
        "  total += subtotal\n",
        "\n",
        "print(\"\\n===== Struk Belanja =====\")\n",
        "print(f\"Total Belanja : Rp {total}\")"
      ],
      "metadata": {
        "colab": {
          "base_uri": "https://localhost:8080/"
        },
        "id": "ZDsXVi4BVM7H",
        "outputId": "ff51a818-ce55-4c0d-9e4e-5d2b8badc9d8"
      },
      "execution_count": null,
      "outputs": [
        {
          "output_type": "stream",
          "name": "stdout",
          "text": [
            "Masukkan nama barang (ketik 'selesai' untuk berhenti)pulpen\n",
            "Masukkan harga (barang): 15000\n",
            "Masukkan jumlah barang: 1\n",
            "Masukkan nama barang (ketik 'selesai' untuk berhenti)selesai\n",
            "\n",
            "===== Struk Belanja =====\n",
            "Total Belanja : Rp 15000.0\n"
          ]
        }
      ]
    },
    {
      "cell_type": "markdown",
      "source": [
        "# Praktikum 08 - Menampilkan Deret Angka"
      ],
      "metadata": {
        "id": "QhbgU5TWcFZ4"
      }
    },
    {
      "cell_type": "code",
      "source": [
        "for i in range(3, 31, 3):\n",
        "    print(i)"
      ],
      "metadata": {
        "id": "lnF5ZCqsVuRs",
        "colab": {
          "base_uri": "https://localhost:8080/"
        },
        "outputId": "dc4eb0b9-9423-4955-ddb1-0acbcedcb64b"
      },
      "execution_count": 13,
      "outputs": [
        {
          "output_type": "stream",
          "name": "stdout",
          "text": [
            "3\n",
            "6\n",
            "9\n",
            "12\n",
            "15\n",
            "18\n",
            "21\n",
            "24\n",
            "27\n",
            "30\n"
          ]
        }
      ]
    },
    {
      "cell_type": "markdown",
      "source": [
        "# Praktikum 09 - Hitung Faktorial"
      ],
      "metadata": {
        "id": "GQiToyXWlhU-"
      }
    },
    {
      "cell_type": "code",
      "source": [
        "try:\n",
        "    n = int(input(\"Masukkan bilangan bulat non-negatif: \"))\n",
        "\n",
        "    if n < 0:\n",
        "        print(\"Bilangan harus non-negatif.\")\n",
        "    else:\n",
        "        faktorial = 1\n",
        "        i = 1\n",
        "        while i <= n:\n",
        "            faktorial *= i\n",
        "            i += 1\n",
        "        print(f\"{n}! = {faktorial}\")\n",
        "except ValueError:\n",
        "    print(\"Input tidak valid. Masukkan bilangan bulat.\")"
      ],
      "metadata": {
        "colab": {
          "base_uri": "https://localhost:8080/"
        },
        "id": "FMl7GyCBlesL",
        "outputId": "37f8f875-8d25-4981-b82f-fcfb6543365f"
      },
      "execution_count": 14,
      "outputs": [
        {
          "output_type": "stream",
          "name": "stdout",
          "text": [
            "Masukkan bilangan bulat non-negatif: 5\n",
            "5! = 120\n"
          ]
        }
      ]
    },
    {
      "cell_type": "markdown",
      "source": [
        "# Praktikum 10 - Pola Segitiga Terbalik"
      ],
      "metadata": {
        "id": "eSClzjFqlt8L"
      }
    },
    {
      "cell_type": "code",
      "source": [
        "tinggi = 5\n",
        "\n",
        "for i in range(tinggi, 0, -1):\n",
        "    for j in range(i):\n",
        "        print(\"*\", end=\"\")\n",
        "    print()\n"
      ],
      "metadata": {
        "colab": {
          "base_uri": "https://localhost:8080/"
        },
        "id": "cz2Arc-hlozv",
        "outputId": "ae7ff5d5-3b4f-405b-df81-5e00dd741bf7"
      },
      "execution_count": 15,
      "outputs": [
        {
          "output_type": "stream",
          "name": "stdout",
          "text": [
            "*****\n",
            "****\n",
            "***\n",
            "**\n",
            "*\n"
          ]
        }
      ]
    },
    {
      "cell_type": "markdown",
      "source": [
        "# Praktikum 11 - Cari Bilangan Prima dengan Break"
      ],
      "metadata": {
        "id": "6rg3_8nnl4u3"
      }
    },
    {
      "cell_type": "code",
      "source": [
        "try:\n",
        "    n = int(input(\"Masukkan bilangan bulat: \"))\n",
        "\n",
        "    if n < 2:\n",
        "        print(f\"{n} bukan bilangan prima.\")\n",
        "    else:\n",
        "        batas = int(n**0.5) + 1\n",
        "        for d in range(2, batas):\n",
        "            if n % d == 0:\n",
        "                print(f\"{n} bukan bilangan prima (punya faktor {d}).\")\n",
        "                break\n",
        "        else:\n",
        "            print(f\"{n} adalah bilangan prima.\")\n",
        "\n",
        "except ValueError:\n",
        "    print(\"Input tidak valid. Masukkan bilangan bulat.\")"
      ],
      "metadata": {
        "id": "mjCqKMZYl2qJ",
        "outputId": "89776cff-e7d9-4811-c762-5a11d8578052",
        "colab": {
          "base_uri": "https://localhost:8080/"
        }
      },
      "execution_count": 16,
      "outputs": [
        {
          "output_type": "stream",
          "name": "stdout",
          "text": [
            "Masukkan bilangan bulat: 19\n",
            "19 adalah bilangan prima.\n"
          ]
        }
      ]
    },
    {
      "cell_type": "markdown",
      "source": [
        "# Praktikum 12 - Tampilkan Hanya Bilangan Genap dengan Continue"
      ],
      "metadata": {
        "id": "7XZJa_FymiZu"
      }
    },
    {
      "cell_type": "code",
      "source": [
        "for i in range(1, 21):\n",
        "    if i % 2 != 0:\n",
        "        continue\n",
        "    print(i)\n"
      ],
      "metadata": {
        "id": "xrlQb743mZyz",
        "outputId": "719c6479-4196-4275-a930-641e7521650d",
        "colab": {
          "base_uri": "https://localhost:8080/"
        }
      },
      "execution_count": 17,
      "outputs": [
        {
          "output_type": "stream",
          "name": "stdout",
          "text": [
            "2\n",
            "4\n",
            "6\n",
            "8\n",
            "10\n",
            "12\n",
            "14\n",
            "16\n",
            "18\n",
            "20\n"
          ]
        }
      ]
    },
    {
      "cell_type": "markdown",
      "source": [
        "# Praktikum 13 - Iterasi Dictionary Mahasiswa"
      ],
      "metadata": {
        "id": "0YItbqiQmuhK"
      }
    },
    {
      "cell_type": "code",
      "source": [
        "mahasiswa = {\"Nama\": \"Budi\", \"Umur\": 21, \"Prodi\": \"Teknik Komputer\"}\n",
        "\n",
        "hitung = 0\n",
        "total = len(mahasiswa)\n",
        "\n",
        "for k, v in mahasiswa.items():\n",
        "    print(f\"{k} : {v}\", end=\" \")\n",
        "    hitung += 1\n",
        "    if hitung % 2 == 0 or hitung == total:\n",
        "        print()"
      ],
      "metadata": {
        "id": "GiyPpZiimxe0",
        "outputId": "dec308d3-979b-42ae-bfb2-04c298358270",
        "colab": {
          "base_uri": "https://localhost:8080/"
        }
      },
      "execution_count": 18,
      "outputs": [
        {
          "output_type": "stream",
          "name": "stdout",
          "text": [
            "Nama : Budi Umur : 21 \n",
            "Prodi : Teknik Komputer \n"
          ]
        }
      ]
    },
    {
      "cell_type": "markdown",
      "source": [
        "# Praktikum 14 - Enumerate Daftar Barang"
      ],
      "metadata": {
        "id": "O4CgW7LBm4As"
      }
    },
    {
      "cell_type": "code",
      "source": [
        "barang = [\"Buku\", \"Pulpen\", \"Tas\"]\n",
        "\n",
        "for no, item in enumerate(barang, start=1):\n",
        "    print(f\"▪ {no} {item}\")"
      ],
      "metadata": {
        "id": "nMJIoTJ5m0y3",
        "outputId": "6da7784e-26dd-4f21-a729-c973a839110d",
        "colab": {
          "base_uri": "https://localhost:8080/"
        }
      },
      "execution_count": 19,
      "outputs": [
        {
          "output_type": "stream",
          "name": "stdout",
          "text": [
            "▪ 1 Buku\n",
            "▪ 2 Pulpen\n",
            "▪ 3 Tas\n"
          ]
        }
      ]
    },
    {
      "cell_type": "markdown",
      "source": [
        "# Praktikum 15 - Studi Kasus – Kasir Diskon"
      ],
      "metadata": {
        "id": "sZ-_KQ3fm8rZ"
      }
    },
    {
      "cell_type": "code",
      "source": [
        "item = []\n",
        "total = 0\n",
        "\n",
        "print(\"Ketik 'selesai' untuk mengakhiri.\\n\")\n",
        "\n",
        "while True:\n",
        "  nama = input(\"Nama barang: \").strip()\n",
        "  if nama.lower() == \"selesai\":\n",
        "    break\n",
        "\n",
        "  qty = int(input(\"Jumlah: \"))\n",
        "  harga = int(input(\"Harga satuan (Rp): \"))\n",
        "  subtotal = qty * harga\n",
        "\n",
        "  item.append((nama, qty, harga, subtotal))\n",
        "  total += subtotal\n",
        "  print(f\"Ditambahkan: {nama} x{qty} = Rp {subtotal}\\n\")\n",
        "\n",
        "diskon = int(0.1 * total) if total >= 200_000 else 0\n",
        "grand_total = total - diskon\n",
        "\n",
        "print(\"\\n--- STRUK ---\")\n",
        "for i, (nama, qty, harga, subtotal) in enumerate(item, start=1):\n",
        "  print(f\"{i}. {nama} x{qty} = Rp {subtotal}\")\n",
        "\n",
        "print(f\"Total         : Rp {total}\")\n",
        "print(f\"Diskon 10%    : Rp {diskon}\")\n",
        "print(f\"Grand Total   : Rp {grand_total}\")\n",
        "print(f\"Terima Kasih!\")"
      ],
      "metadata": {
        "id": "cQ7Qckmwm3o_",
        "outputId": "e948c1d1-5dc6-4c4a-cdb8-3a6d5c084de5",
        "colab": {
          "base_uri": "https://localhost:8080/"
        }
      },
      "execution_count": 22,
      "outputs": [
        {
          "output_type": "stream",
          "name": "stdout",
          "text": [
            "Ketik 'selesai' untuk mengakhiri.\n",
            "\n",
            "Nama barang: pulpen\n",
            "Jumlah: 2\n",
            "Harga satuan (Rp): 6000\n",
            "Ditambahkan: pulpen x2 = Rp 12000\n",
            "\n",
            "Nama barang: selesai\n",
            "\n",
            "--- STRUK ---\n",
            "1. pulpen x2 = Rp 12000\n",
            "Total         : Rp 12000\n",
            "Diskon 10%    : Rp 0\n",
            "Grand Total   : Rp 12000\n",
            "Terima Kasih!\n"
          ]
        }
      ]
    },
    {
      "cell_type": "code",
      "source": [],
      "metadata": {
        "id": "0zOVnpa7panb"
      },
      "execution_count": null,
      "outputs": []
    }
  ]
}