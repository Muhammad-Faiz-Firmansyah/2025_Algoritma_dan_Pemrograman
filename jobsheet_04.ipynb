{
  "nbformat": 4,
  "nbformat_minor": 0,
  "metadata": {
    "colab": {
      "provenance": [],
      "authorship_tag": "ABX9TyPCcGIzV4N4esyLVZ1dnnd4",
      "include_colab_link": true
    },
    "kernelspec": {
      "name": "python3",
      "display_name": "Python 3"
    },
    "language_info": {
      "name": "python"
    }
  },
  "cells": [
    {
      "cell_type": "markdown",
      "metadata": {
        "id": "view-in-github",
        "colab_type": "text"
      },
      "source": [
        "<a href=\"https://colab.research.google.com/github/Muhammad-Faiz-Firmansyah/2025_Algoritma_dan_Pemrograman/blob/main/jobsheet_04.ipynb\" target=\"_parent\"><img src=\"https://colab.research.google.com/assets/colab-badge.svg\" alt=\"Open In Colab\"/></a>"
      ]
    },
    {
      "cell_type": "markdown",
      "source": [
        "# Praktikum 01 – Perulangan For dengan Range"
      ],
      "metadata": {
        "id": "D2gbHbRKbCTN"
      }
    },
    {
      "cell_type": "code",
      "execution_count": null,
      "metadata": {
        "id": "Of2zSQCDtc3W",
        "colab": {
          "base_uri": "https://localhost:8080/"
        },
        "outputId": "7329e38b-974b-49f6-dee8-f12bd40eb75c"
      },
      "outputs": [
        {
          "output_type": "stream",
          "name": "stdout",
          "text": [
            "1\n",
            "2\n",
            "3\n",
            "4\n",
            "5\n"
          ]
        }
      ],
      "source": [
        "for i in range(1, 6):\n",
        "  print(i)"
      ]
    },
    {
      "cell_type": "markdown",
      "source": [
        "# Pratikum 02 - Perulangan While"
      ],
      "metadata": {
        "id": "cpgwNjGCb4XE"
      }
    },
    {
      "cell_type": "code",
      "source": [
        "n = int(input(\"Masukan angka: \"))\n",
        "while n > 0:\n",
        "  print(n)\n",
        "  n -= 1"
      ],
      "metadata": {
        "id": "76gMiFCWbkms",
        "outputId": "7ea9b4b3-e59b-4b59-ef97-fb10dae06dc3",
        "colab": {
          "base_uri": "https://localhost:8080/"
        }
      },
      "execution_count": null,
      "outputs": [
        {
          "output_type": "stream",
          "name": "stdout",
          "text": [
            "Masukan angka: 5\n",
            "5\n",
            "4\n",
            "3\n",
            "2\n",
            "1\n"
          ]
        }
      ]
    },
    {
      "cell_type": "markdown",
      "source": [
        "# Praktikum 03 – Nested Loop (Segitiga Bintang)"
      ],
      "metadata": {
        "id": "QMKW1sfsRX9Y"
      }
    },
    {
      "cell_type": "markdown",
      "source": [
        "#"
      ],
      "metadata": {
        "id": "wP2hUE5pcSpA"
      }
    },
    {
      "cell_type": "code",
      "source": [
        "for i in range(1, 6):\n",
        "  for j in range(i):\n",
        "    print(\"*\", end=\"\")\n",
        "  print()"
      ],
      "metadata": {
        "id": "EyuZrZrKcOMY",
        "outputId": "78c563d3-1b94-41c7-b3a4-a2d624d25f2e",
        "colab": {
          "base_uri": "https://localhost:8080/"
        }
      },
      "execution_count": 2,
      "outputs": [
        {
          "output_type": "stream",
          "name": "stdout",
          "text": [
            "*\n",
            "**\n",
            "***\n",
            "****\n",
            "*****\n"
          ]
        }
      ]
    },
    {
      "cell_type": "markdown",
      "source": [
        "# Praktikum 04 - Break dan continue"
      ],
      "metadata": {
        "id": "NYw0vqVmR4Fs"
      }
    },
    {
      "cell_type": "code",
      "source": [
        "for i in range(1, 11):\n",
        "  if i == 5:\n",
        "    print(\"Angka 5 ditemukan\")\n",
        "    break\n",
        "\n",
        "# Break"
      ],
      "metadata": {
        "id": "M4L5qOxeRqzt",
        "outputId": "e68f4218-4a6b-4800-cd71-a539f7274865",
        "colab": {
          "base_uri": "https://localhost:8080/"
        }
      },
      "execution_count": 4,
      "outputs": [
        {
          "output_type": "stream",
          "name": "stdout",
          "text": [
            "Angka 5 ditemukan\n"
          ]
        }
      ]
    },
    {
      "cell_type": "code",
      "source": [
        "for i in range(1, 6):\n",
        "  if i % 2 == 1:\n",
        "    continue\n",
        "  print(i)\n",
        "\n",
        "# Continue"
      ],
      "metadata": {
        "id": "CErKb5QJSNgw",
        "outputId": "cbe91a87-1679-4cf3-a448-346f45c4bcfa",
        "colab": {
          "base_uri": "https://localhost:8080/"
        }
      },
      "execution_count": 5,
      "outputs": [
        {
          "output_type": "stream",
          "name": "stdout",
          "text": [
            "2\n",
            "4\n"
          ]
        }
      ]
    },
    {
      "cell_type": "markdown",
      "source": [
        "# Praktikum 05 – For pada Dictionary"
      ],
      "metadata": {
        "id": "W21DLdwlUPrT"
      }
    },
    {
      "cell_type": "code",
      "source": [
        "data = {\"Nama\": \"Andi\", \"Umur\": 20, \"Prodi\": \"TRK\"}\n",
        "\n",
        "for k, v in data.items():\n",
        "  print(k, \":\", v)"
      ],
      "metadata": {
        "id": "4p9MDUssUNVE",
        "outputId": "48f55209-a8d0-44a6-bcfd-126f618c3f4b",
        "colab": {
          "base_uri": "https://localhost:8080/"
        }
      },
      "execution_count": 7,
      "outputs": [
        {
          "output_type": "stream",
          "name": "stdout",
          "text": [
            "Nama : Andi\n",
            "Umur : 20\n",
            "Prodi : TRK\n"
          ]
        }
      ]
    },
    {
      "cell_type": "markdown",
      "source": [
        "# Praktikum 06 – For dengan Enumerate"
      ],
      "metadata": {
        "id": "43AvNYYdU6aM"
      }
    },
    {
      "cell_type": "code",
      "source": [
        "daftar = [\"Andi\", \"Budi\", \"Cici\"]\n",
        "\n",
        "for i, nama in enumerate(daftar, start=1):\n",
        "  print(i, nama)"
      ],
      "metadata": {
        "id": "5B4QnXMuUtTa",
        "outputId": "6d91a044-3dc2-42a6-da54-11d5f95532b3",
        "colab": {
          "base_uri": "https://localhost:8080/"
        }
      },
      "execution_count": 8,
      "outputs": [
        {
          "output_type": "stream",
          "name": "stdout",
          "text": [
            "1 Andi\n",
            "2 Budi\n",
            "3 Cici\n"
          ]
        }
      ]
    },
    {
      "cell_type": "markdown",
      "source": [
        "# Praktikum 07 – Studi Kasus: Program Kasir Multi-Item"
      ],
      "metadata": {
        "id": "IKvhW3yPVfnH"
      }
    },
    {
      "cell_type": "code",
      "source": [
        "total = 0\n",
        "\n",
        "while True:\n",
        "  barang = input(\"Masukkan nama barang (ketik 'selesai' untuk berhenti)\")\n",
        "  if barang.lower() == \"selesai\":\n",
        "    break\n",
        "  harga = float(input(f\"Masukkan harga (barang): \"))\n",
        "  jumlah = int(input(f\"Masukkan jumlah barang: \"))\n",
        "  subtotal = harga * jumlah\n",
        "  total += subtotal\n",
        "\n",
        "print(\"\\n===== Struk Belanja =====\")\n",
        "print(f\"Total Belanja : Rp {total}\")"
      ],
      "metadata": {
        "id": "ZDsXVi4BVM7H",
        "outputId": "ff51a818-ce55-4c0d-9e4e-5d2b8badc9d8",
        "colab": {
          "base_uri": "https://localhost:8080/"
        }
      },
      "execution_count": 10,
      "outputs": [
        {
          "output_type": "stream",
          "name": "stdout",
          "text": [
            "Masukkan nama barang (ketik 'selesai' untuk berhenti)pulpen\n",
            "Masukkan harga (barang): 15000\n",
            "Masukkan jumlah barang: 1\n",
            "Masukkan nama barang (ketik 'selesai' untuk berhenti)selesai\n",
            "\n",
            "===== Struk Belanja =====\n",
            "Total Belanja : Rp 15000.0\n"
          ]
        }
      ]
    },
    {
      "cell_type": "code",
      "source": [],
      "metadata": {
        "id": "lnF5ZCqsVuRs"
      },
      "execution_count": null,
      "outputs": []
    }
  ]
}