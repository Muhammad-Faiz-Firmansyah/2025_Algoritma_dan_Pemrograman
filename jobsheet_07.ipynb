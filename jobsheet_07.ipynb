{
  "nbformat": 4,
  "nbformat_minor": 0,
  "metadata": {
    "colab": {
      "provenance": [],
      "authorship_tag": "ABX9TyM12WUJNU1XSUvIwaiRwowU",
      "include_colab_link": true
    },
    "kernelspec": {
      "name": "python3",
      "display_name": "Python 3"
    },
    "language_info": {
      "name": "python"
    }
  },
  "cells": [
    {
      "cell_type": "markdown",
      "metadata": {
        "id": "view-in-github",
        "colab_type": "text"
      },
      "source": [
        "<a href=\"https://colab.research.google.com/github/Muhammad-Faiz-Firmansyah/2025_Algoritma_dan_Pemrograman/blob/main/jobsheet_07.ipynb\" target=\"_parent\"><img src=\"https://colab.research.google.com/assets/colab-badge.svg\" alt=\"Open In Colab\"/></a>"
      ]
    },
    {
      "cell_type": "markdown",
      "source": [
        "# Praktikum 01 – Tuple: Data Tetap yang Tidak Bisa Diubah"
      ],
      "metadata": {
        "id": "gUT2-3ddfuJL"
      }
    },
    {
      "cell_type": "code",
      "execution_count": null,
      "metadata": {
        "colab": {
          "base_uri": "https://localhost:8080/"
        },
        "id": "FNfB3-9Ue3_X",
        "outputId": "35e940b0-99bc-4580-9a6a-ed737b988009"
      },
      "outputs": [
        {
          "output_type": "stream",
          "name": "stdout",
          "text": [
            "Lintang: 7.05\n",
            "Bujur: 110.44\n"
          ]
        }
      ],
      "source": [
        "koordinat = (7.05, 110.44)\n",
        "print(\"Lintang:\", koordinat[0])\n",
        "print(\"Bujur:\", koordinat[1])"
      ]
    },
    {
      "cell_type": "markdown",
      "source": [
        "# Praktikum 02 – Dictionary Dasar: Menyimpan Data Mahasiswa"
      ],
      "metadata": {
        "id": "ib8RGyu8h0LE"
      }
    },
    {
      "cell_type": "code",
      "source": [
        "mahasiswa = {\n",
        "    \"NIM\": \"20251001\",\n",
        "    \"Nama\": \"Andi\",\n",
        "    \"Prodi\": \"TRK\"\n",
        "}\n",
        "\n",
        "print(\"NIM :\", mahasiswa[\"NIM\"])\n",
        "print(\"Nama :\", mahasiswa[\"Nama\"])\n",
        "print(\"Prodi :\", mahasiswa[\"Prodi\"])"
      ],
      "metadata": {
        "colab": {
          "base_uri": "https://localhost:8080/"
        },
        "id": "lFSbgvF8gp8e",
        "outputId": "72d524d5-e6f7-483b-ae6f-eeada122dee2"
      },
      "execution_count": null,
      "outputs": [
        {
          "output_type": "stream",
          "name": "stdout",
          "text": [
            "NIM : 20251001\n",
            "Nama : Andi\n",
            "Prodi : TRK\n"
          ]
        }
      ]
    },
    {
      "cell_type": "markdown",
      "source": [
        "# Praktikum 03 – Operasi pada Dictionary"
      ],
      "metadata": {
        "id": "dOMuHSLjnPz7"
      }
    },
    {
      "cell_type": "code",
      "source": [
        "mahasiswa = {\n",
        "\t\"NIM\": \"20251001\",\n",
        "  \"Nama\": \"Andi\",\n",
        "\t\"Prodi\": \"TRK\"\n",
        "  }\n",
        "\n",
        "mahasiswa[\"Umur\"] = 20\n",
        "mahasiswa[\"Prodi\"] = \"Teknik Komputer\" # memperbarui data\n",
        "del mahasiswa[\"Umur\"]\t# menghapus data\n",
        "\n",
        "print(mahasiswa)\n"
      ],
      "metadata": {
        "colab": {
          "base_uri": "https://localhost:8080/"
        },
        "id": "wjSAkrWInNu_",
        "outputId": "7258bd40-423a-49d6-db3c-54404ac53d98"
      },
      "execution_count": null,
      "outputs": [
        {
          "output_type": "stream",
          "name": "stdout",
          "text": [
            "{'NIM': '20251001', 'Nama': 'Andi', 'Prodi': 'Teknik Komputer'}\n"
          ]
        }
      ]
    },
    {
      "cell_type": "markdown",
      "source": [
        "# Praktikum 04 – Set dan Operasi Himpunan"
      ],
      "metadata": {
        "id": "NyRTQJCPprre"
      }
    },
    {
      "cell_type": "code",
      "source": [
        "A = {1,2,3,4}\n",
        "B = {3,4,5,6}\n",
        "\n",
        "print(\"Union:\",A | B)\n",
        "print(\"Intersaction:\",A & B)\n",
        "print(\"Difference:\",A-B)\n"
      ],
      "metadata": {
        "id": "ce6paOq6phTC",
        "colab": {
          "base_uri": "https://localhost:8080/"
        },
        "outputId": "e85f0580-5ad0-4f9b-a799-80b8becda252"
      },
      "execution_count": null,
      "outputs": [
        {
          "output_type": "stream",
          "name": "stdout",
          "text": [
            "Union: {1, 2, 3, 4, 5, 6}\n",
            "Intersaction: {3, 4}\n",
            "Difference: {1, 2}\n"
          ]
        }
      ]
    },
    {
      "cell_type": "markdown",
      "source": [
        "# Praktikum 05 – Studi Kasus: Data Mahasiswa dan Mata Kuliah"
      ],
      "metadata": {
        "id": "ORDoT_EM7Mod"
      }
    },
    {
      "cell_type": "code",
      "source": [
        "mhs1 = {\"Algoritma\", \"Matematika\", \"Bahasa Inggris\"}\n",
        "mhs2 = {\"Algoritma\", \"Basis Data\", \"Matematika\"}\n",
        "\n",
        "print(\"Mata kuliah Mhs1:\", mhs1)\n",
        "print(\"Mata kuliah Mhs2:\", mhs2)\n",
        "print(\"Mata kuliah yang sama:\", mhs1 & mhs2)"
      ],
      "metadata": {
        "id": "ho7FnCL97NKX",
        "colab": {
          "base_uri": "https://localhost:8080/"
        },
        "outputId": "cc637094-e9e1-4266-e3e2-0a2717f7cbf1"
      },
      "execution_count": null,
      "outputs": [
        {
          "output_type": "stream",
          "name": "stdout",
          "text": [
            "Mata kuliah Mhs1: {'Matematika', 'Algoritma', 'Bahasa Inggris'}\n",
            "Mata kuliah Mhs2: {'Basis Data', 'Matematika', 'Algoritma'}\n",
            "Mata kuliah yang sama: {'Matematika', 'Algoritma'}\n"
          ]
        }
      ]
    },
    {
      "cell_type": "markdown",
      "source": [
        "# Praktikum 06 – Studi Kasus Dictionary: Daftar Nilai Mahasiswa"
      ],
      "metadata": {
        "id": "NSOdzAZ5ANp6"
      }
    },
    {
      "cell_type": "code",
      "source": [
        "nilai_mahasiswa = {\n",
        "    \"Andi\": 80,\n",
        "  \t\"Budi\": 75,\n",
        "    \"Cici\": 90\n",
        "}\n",
        "for nama, nilai in nilai_mahasiswa.items():\n",
        "   print(f\"{nama}: {nilai}\")\n",
        "\n",
        "rata = sum(nilai_mahasiswa.values()) / len(nilai_mahasiswa)\n",
        "print(f\"Rata-rata nilai: {rata:.2f}\")\n"
      ],
      "metadata": {
        "colab": {
          "base_uri": "https://localhost:8080/"
        },
        "id": "TadIZ-9e9OFo",
        "outputId": "a7881c16-170d-4d5b-ea0b-ab9e85f70b1c"
      },
      "execution_count": null,
      "outputs": [
        {
          "output_type": "stream",
          "name": "stdout",
          "text": [
            "Andi: 80\n",
            "Budi: 75\n",
            "Cici: 90\n",
            "Rata-rata nilai: 81.67\n"
          ]
        }
      ]
    },
    {
      "cell_type": "markdown",
      "source": [
        "# penugasan 01 - Tuple Sederhana"
      ],
      "metadata": {
        "id": "639yI5PjRTht"
      }
    },
    {
      "cell_type": "code",
      "source": [
        "mahasiswa = (\"Muhammad Faiz Firmansyah\", 18, \"Teknologi Rekayasa Komputer\")\n",
        "\n",
        "print(\"Nama :\", mahasiswa[0])\n",
        "print(\"Umur :\", mahasiswa[1])\n",
        "print(\"Prodi:\", mahasiswa[2])"
      ],
      "metadata": {
        "colab": {
          "base_uri": "https://localhost:8080/"
        },
        "id": "f6uG6FXdAbEt",
        "outputId": "589498f1-6d80-4253-8e72-aeb9fdea0968"
      },
      "execution_count": null,
      "outputs": [
        {
          "output_type": "stream",
          "name": "stdout",
          "text": [
            "Nama : Muhammad Faiz Firmansyah\n",
            "Umur : 18\n",
            "Prodi: Teknologi Rekayasa Komputer\n"
          ]
        }
      ]
    },
    {
      "cell_type": "markdown",
      "source": [
        "# penugasan 02 - Tuple Tidak Bisa Diubah"
      ],
      "metadata": {
        "id": "HZOFwYgDYhp4"
      }
    },
    {
      "cell_type": "code",
      "source": [
        "t = (1, 2, 3)\n",
        "t[0] = 99"
      ],
      "metadata": {
        "colab": {
          "base_uri": "https://localhost:8080/",
          "height": 193
        },
        "id": "6xVvwKq2UxHI",
        "outputId": "2724b974-93b6-49dd-ccaa-bab51601d802"
      },
      "execution_count": null,
      "outputs": [
        {
          "output_type": "error",
          "ename": "TypeError",
          "evalue": "'tuple' object does not support item assignment",
          "traceback": [
            "\u001b[0;31m---------------------------------------------------------------------------\u001b[0m",
            "\u001b[0;31mTypeError\u001b[0m                                 Traceback (most recent call last)",
            "\u001b[0;32m/tmp/ipython-input-3486842779.py\u001b[0m in \u001b[0;36m<cell line: 0>\u001b[0;34m()\u001b[0m\n\u001b[1;32m      1\u001b[0m \u001b[0mt\u001b[0m \u001b[0;34m=\u001b[0m \u001b[0;34m(\u001b[0m\u001b[0;36m1\u001b[0m\u001b[0;34m,\u001b[0m \u001b[0;36m2\u001b[0m\u001b[0;34m,\u001b[0m \u001b[0;36m3\u001b[0m\u001b[0;34m)\u001b[0m\u001b[0;34m\u001b[0m\u001b[0;34m\u001b[0m\u001b[0m\n\u001b[0;32m----> 2\u001b[0;31m \u001b[0mt\u001b[0m\u001b[0;34m[\u001b[0m\u001b[0;36m0\u001b[0m\u001b[0;34m]\u001b[0m \u001b[0;34m=\u001b[0m \u001b[0;36m99\u001b[0m\u001b[0;34m\u001b[0m\u001b[0;34m\u001b[0m\u001b[0m\n\u001b[0m",
            "\u001b[0;31mTypeError\u001b[0m: 'tuple' object does not support item assignment"
          ]
        }
      ]
    },
    {
      "cell_type": "markdown",
      "source": [
        "# penugasan 03 - Dictionary Dasar"
      ],
      "metadata": {
        "id": "lpGLj0rKcPg9"
      }
    },
    {
      "cell_type": "code",
      "source": [
        "buku = {\"Judul\": \"Algoritma\", \"Penulis\": \"Munir\", \"Tahun\": 2021}\n",
        "\n",
        "print(\"Judul  :\", buku[\"Judul\"])\n",
        "print(\"Penulis:\", buku[\"Penulis\"])\n",
        "print(\"Tahun  :\", buku[\"Tahun\"])"
      ],
      "metadata": {
        "colab": {
          "base_uri": "https://localhost:8080/"
        },
        "id": "dIsDvvqaahpn",
        "outputId": "e2e41296-a942-4e30-d40f-5ac6f435ac28"
      },
      "execution_count": null,
      "outputs": [
        {
          "output_type": "stream",
          "name": "stdout",
          "text": [
            "Judul  : Algoritma\n",
            "Penulis: Munir\n",
            "Tahun  : 2021\n"
          ]
        }
      ]
    },
    {
      "cell_type": "markdown",
      "source": [
        "# penugasan 04 - Operasi Dictionary"
      ],
      "metadata": {
        "id": "Uhv8bBbaBTKa"
      }
    },
    {
      "cell_type": "code",
      "source": [
        "dosen = {\"NIP\": \"12345\", \"Nama\": \"Budi\", \"Prodi\": \"TRK\"}\n",
        "dosen[\"Umur\"] = 40\n",
        "dosen[\"Prodi\"] = \"Teknik Komputer\"\n",
        "\n",
        "del dosen[\"Umur\"]\n",
        "\n",
        "print(dosen)"
      ],
      "metadata": {
        "colab": {
          "base_uri": "https://localhost:8080/"
        },
        "id": "u2cKTAzmAhcu",
        "outputId": "cded2b63-900d-4be8-e90a-9d6b34f2421d"
      },
      "execution_count": null,
      "outputs": [
        {
          "output_type": "stream",
          "name": "stdout",
          "text": [
            "{'NIP': '12345', 'Nama': 'Budi', 'Prodi': 'Teknik Komputer'}\n"
          ]
        }
      ]
    },
    {
      "cell_type": "markdown",
      "source": [
        "# penugasan 05 - Set dan Himpunan"
      ],
      "metadata": {
        "id": "XUyDOi8bCFeW"
      }
    },
    {
      "cell_type": "code",
      "source": [
        "A = {\"Matematika\", \"Algoritma\", \"Bahasa Inggris\"}\n",
        "B = {\"Algoritma\", \"Basis Data\", \"Matematika\"}\n",
        "\n",
        "print(\"Union       :\", sorted(A | B))\n",
        "print(\"Intersection:\", sorted(A & B))\n",
        "print(\"A - B       :\", sorted(A - B))\n",
        "print(\"B - A       :\", sorted(B - A))"
      ],
      "metadata": {
        "colab": {
          "base_uri": "https://localhost:8080/"
        },
        "id": "afXl_WWaBpHJ",
        "outputId": "34ee7ca7-d2f4-4f09-bd95-5e73db011ddf"
      },
      "execution_count": null,
      "outputs": [
        {
          "output_type": "stream",
          "name": "stdout",
          "text": [
            "Union       : ['Algoritma', 'Bahasa Inggris', 'Basis Data', 'Matematika']\n",
            "Intersection: ['Algoritma', 'Matematika']\n",
            "A - B       : ['Bahasa Inggris']\n",
            "B - A       : ['Basis Data']\n"
          ]
        }
      ]
    },
    {
      "cell_type": "markdown",
      "source": [
        "# penugasan 06 - Studi Kasus Dictionary"
      ],
      "metadata": {
        "id": "exTcQ4W2Ct7x"
      }
    },
    {
      "cell_type": "code",
      "source": [
        "nilai = {\"Andi\": 85, \"Budi\": 90, \"Cici\": 78}\n",
        "\n",
        "for nama, skor in nilai.items():\n",
        "    print(f\"{nama}: {skor}\")\n",
        "\n",
        "rata = sum(nilai.values()) / len(nilai)\n",
        "print(f\"Rata-rata: {rata:.2f}\")"
      ],
      "metadata": {
        "colab": {
          "base_uri": "https://localhost:8080/"
        },
        "id": "koi6n5VFCcv5",
        "outputId": "80b731b4-df16-49e0-d2c1-a35d9efafba6"
      },
      "execution_count": null,
      "outputs": [
        {
          "output_type": "stream",
          "name": "stdout",
          "text": [
            "Andi: 85\n",
            "Budi: 90\n",
            "Cici: 78\n",
            "Rata-rata: 84.33\n"
          ]
        }
      ]
    },
    {
      "cell_type": "markdown",
      "source": [
        "# penugasan 07 - Studi Kasus Set – Klub Mahasiswa"
      ],
      "metadata": {
        "id": "pY4NM-mxE8bH"
      }
    },
    {
      "cell_type": "code",
      "source": [
        "klub_a = {\"Andi\", \"Budi\", \"Cici\"}\n",
        "klub_b = {\"Cici\", \"Deni\", \"Eka\"}\n",
        "\n",
        "semua = klub_a | klub_b\n",
        "kedua = klub_a & klub_b\n",
        "hanya_a = klub_a - klub_b\n",
        "\n",
        "print(\"Seluruh anggota (union):\", sorted(semua))\n",
        "print(\"Anggota di kedua klub (intersection):\", sorted(kedua))\n",
        "print(\"Hanya di Klub A (difference A - B):\", sorted(hanya_a))"
      ],
      "metadata": {
        "colab": {
          "base_uri": "https://localhost:8080/"
        },
        "id": "zYJcWdsHEez4",
        "outputId": "e8476c4f-1aae-4b62-f570-f0fcb08d52ed"
      },
      "execution_count": null,
      "outputs": [
        {
          "output_type": "stream",
          "name": "stdout",
          "text": [
            "Seluruh anggota (union): ['Andi', 'Budi', 'Cici', 'Deni', 'Eka']\n",
            "Anggota di kedua klub (intersection): ['Cici']\n",
            "Hanya di Klub A (difference A - B): ['Andi', 'Budi']\n"
          ]
        }
      ]
    },
    {
      "cell_type": "code",
      "source": [],
      "metadata": {
        "id": "BUECJ2kuE7rG"
      },
      "execution_count": null,
      "outputs": []
    }
  ]
}