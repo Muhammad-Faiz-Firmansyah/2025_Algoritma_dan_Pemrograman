{
  "nbformat": 4,
  "nbformat_minor": 0,
  "metadata": {
    "colab": {
      "provenance": [],
      "authorship_tag": "ABX9TyMJh6zORaY8jcAUiRHgnqeS",
      "include_colab_link": true
    },
    "kernelspec": {
      "name": "python3",
      "display_name": "Python 3"
    },
    "language_info": {
      "name": "python"
    }
  },
  "cells": [
    {
      "cell_type": "markdown",
      "metadata": {
        "id": "view-in-github",
        "colab_type": "text"
      },
      "source": [
        "<a href=\"https://colab.research.google.com/github/Muhammad-Faiz-Firmansyah/2025_Algoritma_dan_Pemrograman/blob/main/Jobsheet_01.ipynb\" target=\"_parent\"><img src=\"https://colab.research.google.com/assets/colab-badge.svg\" alt=\"Open In Colab\"/></a>"
      ]
    },
    {
      "cell_type": "markdown",
      "source": [
        "# Praktikum 01. Menghitung Luas Persegi Panjang"
      ],
      "metadata": {
        "id": "GUYWtmm02Z1M"
      }
    },
    {
      "cell_type": "code",
      "source": [
        "  p = int(input(\"masukan panjang: \"))\n",
        "  l = int(input(\"masukan lebar: \"))\n",
        "  luas = p * l\n",
        "  print (\"Luas persegi panjang = \", luas)"
      ],
      "metadata": {
        "colab": {
          "base_uri": "https://localhost:8080/"
        },
        "id": "qwlhl4yh2hnG",
        "outputId": "2fc41217-8979-4068-f9ad-4c9966e5342c"
      },
      "execution_count": null,
      "outputs": [
        {
          "output_type": "stream",
          "name": "stdout",
          "text": [
            "masukan panjang: 4\n",
            "masukan lebar: 6\n",
            "Luas persegi panjang =  24\n"
          ]
        }
      ]
    },
    {
      "cell_type": "markdown",
      "source": [
        "# Praktikum 02. Menghitung Luas Segitiga (Rumus Heron)"
      ],
      "metadata": {
        "id": "KDWr1AsK4SQr"
      }
    },
    {
      "cell_type": "code",
      "source": [
        "import math\n",
        "a = float(input(\"masukan sisi a: \"))\n",
        "b = float(input(\"masukan sisi b: \"))\n",
        "c = float(input(\"masukan sisi c: \"))\n",
        "\n",
        "s = (a + b + c) /2\n",
        "luas = math.sqrt(s*(s-a)*(s-b)*(s-c))\n",
        "print(\"Luas segitiga = \", luas)\n"
      ],
      "metadata": {
        "id": "f-FbwfwZ2r76",
        "outputId": "ab11765c-7e0f-438b-e444-f07ca9b15d13",
        "colab": {
          "base_uri": "https://localhost:8080/"
        }
      },
      "execution_count": 2,
      "outputs": [
        {
          "output_type": "stream",
          "name": "stdout",
          "text": [
            "masukan sisi a: 10\n",
            "masukan sisi b: 10\n",
            "masukan sisi c: 10\n",
            "Luas segitiga =  43.30127018922193\n"
          ]
        }
      ]
    },
    {
      "cell_type": "markdown",
      "source": [
        "# Praktikum 03. Konversi Suhu Celcius ke Fahrenheit"
      ],
      "metadata": {
        "id": "Tbt7kCNs9CIZ"
      }
    },
    {
      "cell_type": "code",
      "source": [
        "c = float(input(\"Masukan suhu (°C): \"))\n",
        "f = (c * 9/5) + 32\n",
        "print(\"Hasil konversi = \", f, \"°F\")"
      ],
      "metadata": {
        "id": "hqwEJ73z7qpw",
        "outputId": "8c772ab3-fa0b-46ba-dc93-e15d317ecd63",
        "colab": {
          "base_uri": "https://localhost:8080/"
        }
      },
      "execution_count": 3,
      "outputs": [
        {
          "output_type": "stream",
          "name": "stdout",
          "text": [
            "Masukan suhu (°C): 40\n",
            "Hasil konversi =  104.0 °F\n"
          ]
        }
      ]
    },
    {
      "cell_type": "markdown",
      "source": [
        "# Pratikum 04. Menghitung Umur Berdasarkan Tahun Lahir"
      ],
      "metadata": {
        "id": "Kk2c5pXD9zEb"
      }
    },
    {
      "cell_type": "code",
      "source": [
        "tahun_lahir = int(input(\"Masukan tahun lahir: \"))\n",
        "tahun_sekarang = 2025\n",
        "umur = tahun_sekarang - tahun_lahir\n",
        "print(\"Umur anda = \", umur, \"tahun\")"
      ],
      "metadata": {
        "id": "ONgJf-mZ9vzV",
        "outputId": "09edca33-b685-48cf-d397-376dd132e376",
        "colab": {
          "base_uri": "https://localhost:8080/"
        }
      },
      "execution_count": 5,
      "outputs": [
        {
          "output_type": "stream",
          "name": "stdout",
          "text": [
            "Masukan tahun lahir: 2007\n",
            "Umur anda =  18 tahun\n"
          ]
        }
      ]
    },
    {
      "cell_type": "markdown",
      "source": [
        "# Pratikum 05. Menghitung Luas Lingkaran"
      ],
      "metadata": {
        "id": "VelD-lhp-n54"
      }
    },
    {
      "cell_type": "code",
      "source": [
        "import math\n",
        "r = float(input(\"Masukan jari-jari lingkaran: \"))\n",
        "luas = math.pi * r * r\n",
        "print(\"Luas lingkaran = \", luas)"
      ],
      "metadata": {
        "id": "NxJZg4Rx-UEZ",
        "outputId": "4e9f49c0-6077-458d-b890-fcb271e03577",
        "colab": {
          "base_uri": "https://localhost:8080/"
        }
      },
      "execution_count": 10,
      "outputs": [
        {
          "output_type": "stream",
          "name": "stdout",
          "text": [
            "Masukan jari-jari lingkaran: 5\n",
            "Luas lingkaran =  78.53981633974483\n"
          ]
        }
      ]
    },
    {
      "cell_type": "markdown",
      "source": [
        "# Pratikum 06. Menjumlah Tiga Bilangan"
      ],
      "metadata": {
        "id": "sjtEAEOD_ZIH"
      }
    },
    {
      "cell_type": "code",
      "source": [
        "a = int(input(\"Masukan bilangan pertama: \"))\n",
        "b = int(input(\"Masukan bilangan kedua: \"))\n",
        "c = int(input(\"Masukan bilangan ketiga: \"))\n",
        "\n",
        "jumlah = a + b + c\n",
        "print(\"Jumlah = \", jumlah)"
      ],
      "metadata": {
        "id": "_LWI6WOG_if_",
        "outputId": "6bc01146-dcf6-446d-d9ee-761ef4033694",
        "colab": {
          "base_uri": "https://localhost:8080/"
        }
      },
      "execution_count": 13,
      "outputs": [
        {
          "output_type": "stream",
          "name": "stdout",
          "text": [
            "Masukan bilangan pertama: 2\n",
            "Masukan bilangan kedua: 3\n",
            "Masukan bilangan ketiga: 7\n",
            "Jumlah =  12\n"
          ]
        }
      ]
    }
  ]
}